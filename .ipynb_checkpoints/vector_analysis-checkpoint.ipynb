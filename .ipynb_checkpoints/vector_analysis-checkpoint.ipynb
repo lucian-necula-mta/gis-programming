{
 "cells": [
  {
   "cell_type": "code",
   "execution_count": null,
   "id": "1832bc3a",
   "metadata": {},
   "outputs": [],
   "source": [
    "import os\n",
    "from osgeo import ogr\n",
    "\n",
    "data_dir = r'osgeopy-data'"
   ]
  },
  {
   "cell_type": "markdown",
   "id": "32c169d3",
   "metadata": {},
   "source": [
    "##  Overlay tools: what’s on top of what?"
   ]
  },
  {
   "cell_type": "markdown",
   "id": "a78df964",
   "metadata": {},
   "source": [
    "## Study area of interes"
   ]
  },
  {
   "cell_type": "code",
   "execution_count": null,
   "id": "c76794f6",
   "metadata": {},
   "outputs": [],
   "source": [
    "# Look at New Orleans wetlands. First get a specific marsh feature near New Orleans.\n",
    "water_ds = ogr.Open(os.path.join(data_dir, 'us', 'wtrbdyp010.shp'))\n",
    "water_lyr = water_ds.GetLayer(0)\n",
    "water_lyr.SetAttributeFilter('WaterbdyID = 1011327')\n",
    "marsh_feat = water_lyr.GetNextFeature()\n",
    "marsh_geom = marsh_feat.geometry().Clone()"
   ]
  },
  {
   "cell_type": "code",
   "execution_count": null,
   "id": "437b2418",
   "metadata": {},
   "outputs": [],
   "source": [
    "# Get the New Orleans boundary.\n",
    "nola_ds = ogr.Open(os.path.join(data_dir, 'louisiana', 'NOLA.shp'))\n",
    "nola_lyr = nola_ds.GetLayer(0)\n",
    "nola_feat = nola_lyr.GetNextFeature()\n",
    "nola_geom = nola_feat.geometry().Clone()"
   ]
  },
  {
   "cell_type": "code",
   "execution_count": null,
   "id": "96533f52",
   "metadata": {},
   "outputs": [],
   "source": [
    "# Intersect the marsh and boundary polygons to get the part of the marsh that\n",
    "# falls within New Orleans city boundaries.\n",
    "intersection = marsh_geom.Intersection(nola_geom)"
   ]
  },
  {
   "cell_type": "markdown",
   "id": "c1cc7ab7",
   "metadata": {},
   "source": [
    "### Figure out how much of New Orleans is wetlands"
   ]
  },
  {
   "cell_type": "markdown",
   "id": "c84735a3",
   "metadata": {},
   "source": [
    "#### 1. Using individual geometries"
   ]
  },
  {
   "cell_type": "code",
   "execution_count": null,
   "id": "e9f4f73d",
   "metadata": {},
   "outputs": [],
   "source": [
    "# Throw out lakes and anything not in the vicinity of New Orleans,and then loop through the remaining water body features.\n",
    "water_lyr.SetAttributeFilter(\"Feature != \\'Lake\\'\")\n",
    "water_lyr.SetSpatialFilter(nola_geom)"
   ]
  },
  {
   "cell_type": "code",
   "execution_count": null,
   "id": "fb3327ca",
   "metadata": {},
   "outputs": [],
   "source": [
    "# For each one, find the area of the feature that is contained within city boundaries and add it to a running total.\n",
    "wetlands_area = 0\n",
    "for feat in water_lyr:\n",
    "    intersect = feat.geometry().Intersection(nola_geom)\n",
    "    wetlands_area += intersect.GetArea()"
   ]
  },
  {
   "cell_type": "code",
   "execution_count": null,
   "id": "f5764f79",
   "metadata": {},
   "outputs": [],
   "source": [
    "# Then it's easy to figure the percentage by dividing that total by the area of New Orleans.\n",
    "pcnt = wetlands_area / nola_geom.GetArea()\n",
    "print('{:.1%} of New Orleans is wetland'.format(pcnt))"
   ]
  },
  {
   "cell_type": "markdown",
   "id": "9eb9a2ab",
   "metadata": {},
   "source": [
    "#### 2. Using layers instead of individual geometries"
   ]
  },
  {
   "cell_type": "code",
   "execution_count": null,
   "id": "87f72dbc",
   "metadata": {},
   "outputs": [],
   "source": [
    "#You need to set the attribute filter, but a spatial filter isn't necessary\n",
    "water_lyr.SetSpatialFilter(None)\n",
    "water_lyr.SetAttributeFilter(\"Feature != \\'Lake\\'\")"
   ]
  },
  {
   "cell_type": "code",
   "execution_count": null,
   "id": "9cb5f2d8",
   "metadata": {},
   "outputs": [],
   "source": [
    "# In this case you'll need an empty layer to store the intersection results in, so create a temporary one in memory\n",
    "memory_driver = ogr.GetDriverByName('Memory')\n",
    "temp_ds = memory_driver.CreateDataSource('temp')\n",
    "temp_lyr = temp_ds.CreateLayer('temp')"
   ]
  },
  {
   "cell_type": "code",
   "execution_count": null,
   "id": "b1b89c3f",
   "metadata": {},
   "outputs": [],
   "source": [
    "# Then run the intersection and use SQL to sum up the areas.\n",
    "nola_lyr.Intersection(water_lyr, temp_lyr)\n",
    "sql = 'SELECT SUM(OGR_GEOM_AREA) AS area FROM temp'\n",
    "lyr = temp_ds.ExecuteSQL(sql)\n",
    "pcnt = lyr.GetFeature(0).GetField('area') / nola_geom.GetArea()\n",
    "print('{:.1%} of New Orleans is wetland'.format(pcnt))"
   ]
  },
  {
   "cell_type": "markdown",
   "id": "2ee096b6",
   "metadata": {},
   "source": [
    "## Proximity tools: how far apart are things?"
   ]
  },
  {
   "cell_type": "markdown",
   "id": "efc24346",
   "metadata": {},
   "source": [
    "### 1. Let’s figure out how many cities in the United States are within 10 miles of a volcano. \n",
    "   * We’ll use datasets that have an Albers projection so that the map units are meters instead of decimal degrees\n",
    "   * We’ll also use this example to highlight a potential source of error when doing analyses like this\n",
    "   * The first step in your analysis will be to buffer a volcano dataset by 16,000 meters, which is roughly equivalent to 10 miles\n",
    "   * Because there isn’t a buffer function on an entire layer, you’ll buffer each volcano point individually and add it to a temporary layer\n",
    "   * Once that’s done, you can intersect the buffer layer with the cities layer to get the number of cities that fall\n",
    "within that 10-mile radius"
   ]
  },
  {
   "cell_type": "markdown",
   "id": "ead0f5c7",
   "metadata": {},
   "source": [
    "#### 1. A flawed method for determining the number of cities near volcanoes"
   ]
  },
  {
   "cell_type": "code",
   "execution_count": null,
   "id": "e4f65d3a",
   "metadata": {},
   "outputs": [],
   "source": [
    "# Open layers for examples.\n",
    "shp_ds = ogr.Open(r'osgeopy-data\\us')\n",
    "volcano_lyr = shp_ds.GetLayer('us_volcanos_albers')\n",
    "cities_lyr = shp_ds.GetLayer('cities_albers')"
   ]
  },
  {
   "cell_type": "code",
   "execution_count": null,
   "id": "896fa260",
   "metadata": {},
   "outputs": [],
   "source": [
    "# Make a temporary layer to store buffers\n",
    "memory_driver = ogr.GetDriverByName('memory')\n",
    "memory_ds = memory_driver.CreateDataSource('temp')\n",
    "\n",
    "buff_lyr = memory_ds.CreateLayer('buffer')\n",
    "buff_feat = ogr.Feature(buff_lyr.GetLayerDefn())"
   ]
  },
  {
   "cell_type": "code",
   "execution_count": null,
   "id": "af67f17d",
   "metadata": {},
   "outputs": [],
   "source": [
    "# Buffer each volcano and add it to the buffer layer\n",
    "for volcano_feat in volcano_lyr:\n",
    "    buff_geom = volcano_feat.geometry().Buffer(16000)\n",
    "    tmp = buff_feat.SetGeometry(buff_geom)\n",
    "    tmp = buff_lyr.CreateFeature(buff_feat)"
   ]
  },
  {
   "cell_type": "code",
   "execution_count": null,
   "id": "428a1fc2",
   "metadata": {},
   "outputs": [],
   "source": [
    "#Intersect the cities and volcano buffers\n",
    "result_lyr = memory_ds.CreateLayer('result')\n",
    "buff_lyr.Intersection (cities_lyr, result_lyr)\n",
    "print('Cities: {}'.format(result_lyr.GetFeatureCount()))"
   ]
  },
  {
   "cell_type": "markdown",
   "id": "0b57d62e",
   "metadata": {},
   "source": [
    "**Note:** From this you could conclude that that are 83 cities in the United States that are within 10 miles of a volcano. But for good measure, try doing the same thing with the slightly different method"
   ]
  },
  {
   "cell_type": "markdown",
   "id": "3d7d4275",
   "metadata": {},
   "source": [
    "#### 2. A better method for determining the number of cities near volcanoes\n",
    "* This time you’ll add the buffers to a multipolygon instead of a temporary layer\n",
    "* A function called `UnionCascaded()` efficiently unions all of the polygons in a multipolygon together\n",
    "* You’ll use this to create one polygon from all of the volcano buffers and then use the result as a spatial filter\n",
    "on the cities layer"
   ]
  },
  {
   "cell_type": "code",
   "execution_count": null,
   "id": "afc0214b",
   "metadata": {},
   "outputs": [],
   "source": [
    "# Go back to the start of the volcanoes layer\n",
    "volcano_lyr.ResetReading()\n",
    "\n",
    "multipoly = ogr.Geometry(ogr.wkbMultiPolygon)\n",
    "for volcano_feat in volcano_lyr:\n",
    "    buff_geom = volcano_feat.geometry().Buffer(16000)\n",
    "    multipoly.AddGeometry(buff_geom)"
   ]
  },
  {
   "cell_type": "markdown",
   "id": "139d46bb",
   "metadata": {},
   "source": [
    "**Note**: Use `UnionCascaded()` when you need to union many geometries together.\n",
    "It will be much faster than joining them one by one."
   ]
  },
  {
   "cell_type": "code",
   "execution_count": null,
   "id": "cda904a4",
   "metadata": {},
   "outputs": [],
   "source": [
    "# Unions all of the polygons in a multipolygon together\n",
    "cities_lyr.SetSpatialFilter(multipoly.UnionCascaded ())\n",
    "print('Cities: {}'.format(cities_lyr.GetFeatureCount()))"
   ]
  },
  {
   "cell_type": "markdown",
   "id": "6b17ed07",
   "metadata": {},
   "source": [
    "**We' ve lost five cities!!! What happened?**\n",
    "In the first example, a copy of a city is included in the output every time it falls within a volcano buffer:\n",
    " * This means a city will be included more than once if it’s within 16,000 meters of multiple volcanoes\n",
    " * This happened with a few cities, which is why the count from the intersection method was wrong, and higher than\n",
    "from the spatial filter method.\n",
    "\n",
    "**Note**: This is a good example of why you should always think through your methodology carefully, because the “obvious” solution might be incorrect and provide the wrong results."
   ]
  },
  {
   "cell_type": "markdown",
   "id": "f6c14a3f",
   "metadata": {},
   "source": [
    "### 2. How far a particular city is from a certain volcano?"
   ]
  },
  {
   "cell_type": "code",
   "execution_count": null,
   "id": "47f74eb9",
   "metadata": {},
   "outputs": [],
   "source": [
    "# Open layers for examples.\n",
    "shp_ds = ogr.Open(os.path.join(data_dir, 'us'))\n",
    "volcano_lyr = shp_ds.GetLayer('us_volcanos_albers')\n",
    "cities_lyr = shp_ds.GetLayer('cities_albers')"
   ]
  },
  {
   "cell_type": "code",
   "execution_count": null,
   "id": "1fd75bab",
   "metadata": {},
   "outputs": [],
   "source": [
    "# Find out how far Seattle is from Mount Rainier.\n",
    "volcano_lyr.SetAttributeFilter(\"NAME = 'Rainier'\")\n",
    "feat = volcano_lyr.GetNextFeature()\n",
    "rainier = feat.geometry().Clone()\n",
    "\n",
    "cities_lyr.SetSpatialFilter(None)\n",
    "cities_lyr.SetAttributeFilter(\"NAME = 'Seattle'\")\n",
    "feat = cities_lyr.GetNextFeature()\n",
    "seattle = feat.geometry().Clone()\n",
    "\n",
    "meters = round(rainier.Distance(seattle))\n",
    "miles = meters / 1600\n",
    "print('{} meters ({} miles)'.format(meters, miles))\n"
   ]
  },
  {
   "cell_type": "markdown",
   "id": "1efe2374",
   "metadata": {},
   "source": [
    "## 2.5D Geometries: z values aren’t used when performing spatial operations."
   ]
  },
  {
   "cell_type": "code",
   "execution_count": null,
   "id": "6c9a47c2",
   "metadata": {},
   "outputs": [],
   "source": [
    "# Take a look at the distance between two 2D points. The distance should be 4.\n",
    "pt1_2d = ogr.Geometry(ogr.wkbPoint)\n",
    "pt1_2d.AddPoint(15, 15)\n",
    "pt2_2d = ogr.Geometry(ogr.wkbPoint)\n",
    "pt2_2d.AddPoint(15, 19)\n",
    "print(pt1_2d.Distance(pt2_2d))\n"
   ]
  },
  {
   "cell_type": "code",
   "execution_count": null,
   "id": "cc72e6e3",
   "metadata": {},
   "outputs": [],
   "source": [
    "# Now create some 2.5D points, using the same x and y coordinates, but adding z coordinates. \n",
    "# The distance now, if three dimensions were taken into account would be 5. But ogr still returns 4. \n",
    "# This is because the z coordinates are ignored.\n",
    "pt1_25d = ogr.Geometry(ogr.wkbPoint25D)\n",
    "pt1_25d.AddPoint(15, 15, 0)\n",
    "pt2_25d = ogr.Geometry(ogr.wkbPoint25D)\n",
    "pt2_25d.AddPoint(15, 19, 3)\n",
    "print(pt1_25d.Distance(pt2_25d))"
   ]
  },
  {
   "cell_type": "code",
   "execution_count": null,
   "id": "24eba846",
   "metadata": {},
   "outputs": [],
   "source": [
    "# Take a look at the area of a 2D polygon. The area should be 100.\n",
    "ring = ogr.Geometry(ogr.wkbLinearRing)\n",
    "ring.AddPoint(10, 10)\n",
    "ring.AddPoint(10, 20)\n",
    "ring.AddPoint(20, 20)\n",
    "ring.AddPoint(20, 10)\n",
    "poly_2d = ogr.Geometry(ogr.wkbPolygon)\n",
    "poly_2d.AddGeometry(ring)\n",
    "poly_2d.CloseRings()\n",
    "print(poly_2d.GetArea())"
   ]
  },
  {
   "cell_type": "code",
   "execution_count": null,
   "id": "98daaca0",
   "metadata": {},
   "outputs": [],
   "source": [
    "# Now create a 2.5D polygon, again using the same x and y coordinates, but\n",
    "# providing a z coordinate for a couple of the vertices. \n",
    "# The area of this in three dimensions is around 141, but ogr still returns 100.\n",
    "ring = ogr.Geometry(ogr.wkbLinearRing)\n",
    "ring.AddPoint(10, 10, 0)\n",
    "ring.AddPoint(10, 20, 0)\n",
    "ring.AddPoint(20, 20, 10)\n",
    "ring.AddPoint(20, 10, 10)\n",
    "poly_25d = ogr.Geometry(ogr.wkbPolygon25D)\n",
    "poly_25d.AddGeometry(ring)\n",
    "poly_25d.CloseRings()\n",
    "print(poly_25d.GetArea())"
   ]
  },
  {
   "cell_type": "code",
   "execution_count": null,
   "id": "5a5942df",
   "metadata": {},
   "outputs": [],
   "source": [
    "# If three dimensions were taken into account, pt1_d2 would be contained in the 2D polygon, but not the 3D one. \n",
    "# But since the 3D one is really 2.5D, ogr thinks the point is contained in both polygons.\n",
    "print(poly_2d.Contains(pt1_2d))\n",
    "print(poly_25d.Contains(pt1_2d))"
   ]
  },
  {
   "cell_type": "code",
   "execution_count": null,
   "id": "92f2a0e5",
   "metadata": {},
   "outputs": [],
   "source": []
  }
 ],
 "metadata": {
  "kernelspec": {
   "display_name": "Python 3 (ipykernel)",
   "language": "python",
   "name": "python3"
  },
  "language_info": {
   "codemirror_mode": {
    "name": "ipython",
    "version": 3
   },
   "file_extension": ".py",
   "mimetype": "text/x-python",
   "name": "python",
   "nbconvert_exporter": "python",
   "pygments_lexer": "ipython3",
   "version": "3.9.7"
  }
 },
 "nbformat": 4,
 "nbformat_minor": 5
}
