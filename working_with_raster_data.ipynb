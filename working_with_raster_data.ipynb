{
 "cells": [
  {
   "cell_type": "code",
   "execution_count": null,
   "id": "d4d3a1e3",
   "metadata": {},
   "outputs": [],
   "source": [
    "import os\n",
    "import shutil\n",
    "import numpy as np\n",
    "from osgeo import gdal, osr"
   ]
  },
  {
   "cell_type": "code",
   "execution_count": null,
   "id": "baab0fda",
   "metadata": {},
   "outputs": [],
   "source": [
    "data_dir = r'C:\\Personale\\atm\\reps\\gis-programming\\osgeopy-data'"
   ]
  },
  {
   "cell_type": "markdown",
   "id": "622e60fb",
   "metadata": {},
   "source": [
    "### Extracting and saving a subset of an image"
   ]
  },
  {
   "cell_type": "code",
   "execution_count": null,
   "id": "910ad7d4",
   "metadata": {},
   "outputs": [],
   "source": [
    "# Coordinates for the bounding box to extract.\n",
    "vashon_ulx, vashon_uly = 532000, 5262600\n",
    "vashon_lrx, vashon_lry = 548500, 5241500\n",
    "\n",
    "# Don't forget to change the directory.\n",
    "os.chdir(os.path.join(data_dir, 'landsat', 'washington'))\n",
    "in_ds = gdal.Open('nat_color.tif')\n"
   ]
  },
  {
   "cell_type": "code",
   "execution_count": null,
   "id": "e4ad7c3b",
   "metadata": {},
   "outputs": [],
   "source": [
    "# Create an inverse geotransform for the raster. This converts real-world\n",
    "# coordinates to pixel offsets.\n",
    "in_gt = in_ds.GetGeoTransform()\n",
    "inv_gt = gdal.InvGeoTransform(in_gt)\n",
    "if gdal.VersionInfo()[0] == '1':\n",
    "    if inv_gt[0] == 1:\n",
    "        inv_gt = inv_gt[1]\n",
    "    else:\n",
    "        raise RuntimeError('Inverse geotransform failed')\n",
    "elif inv_gt is None:\n",
    "    raise RuntimeError('Inverse geotransform failed')"
   ]
  },
  {
   "cell_type": "code",
   "execution_count": null,
   "id": "6b6c57af",
   "metadata": {},
   "outputs": [],
   "source": [
    "# Get the offsets that correspond to the bounding box corner coordinates.\n",
    "offsets_ul = gdal.ApplyGeoTransform(\n",
    "    inv_gt, vashon_ulx, vashon_uly)\n",
    "offsets_lr = gdal.ApplyGeoTransform(\n",
    "    inv_gt, vashon_lrx, vashon_lry)"
   ]
  },
  {
   "cell_type": "code",
   "execution_count": null,
   "id": "bda82bea",
   "metadata": {},
   "outputs": [],
   "source": [
    "# The offsets are returned as floating point, but we need integers.\n",
    "off_ulx, off_uly = map(int, offsets_ul)\n",
    "off_lrx, off_lry = map(int, offsets_lr)"
   ]
  },
  {
   "cell_type": "code",
   "execution_count": null,
   "id": "efb11dc5",
   "metadata": {},
   "outputs": [],
   "source": [
    "# Compute the numbers of rows and columns to extract, based on the offsets.\n",
    "rows = off_lry - off_uly\n",
    "columns = off_lrx - off_ulx"
   ]
  },
  {
   "cell_type": "code",
   "execution_count": null,
   "id": "651f31c2",
   "metadata": {},
   "outputs": [],
   "source": [
    "# Create an output raster with the correct number of rows and columns.\n",
    "gtiff_driver = gdal.GetDriverByName('GTiff')\n",
    "out_ds = gtiff_driver.Create('vashon.tif', columns, rows, 3)\n",
    "out_ds.SetProjection(in_ds.GetProjection())"
   ]
  },
  {
   "cell_type": "code",
   "execution_count": null,
   "id": "f3760f4d",
   "metadata": {},
   "outputs": [],
   "source": [
    "# Convert the offsets to real-world coordinates for the georeferencing info.\n",
    "# We can't use the coordinates above because they don't correspond to the\n",
    "# pixel edges.\n",
    "subset_ulx, subset_uly = gdal.ApplyGeoTransform(\n",
    "    in_gt, off_ulx, off_uly)\n",
    "out_gt = list(in_gt)\n",
    "out_gt[0] = subset_ulx\n",
    "out_gt[3] = subset_uly\n",
    "out_ds.SetGeoTransform(out_gt)"
   ]
  },
  {
   "cell_type": "code",
   "execution_count": null,
   "id": "e5870455",
   "metadata": {},
   "outputs": [],
   "source": [
    "# Loop through the 3 bands.\n",
    "for i in range(1, 4):\n",
    "    in_band = in_ds.GetRasterBand(i)\n",
    "    out_band = out_ds.GetRasterBand(i)\n",
    "\n",
    "    # Read the data from the input raster starting at the computed offsets.\n",
    "    data = in_band.ReadAsArray(\n",
    "        off_ulx, off_uly, columns, rows)\n",
    "\n",
    "    # Write the data to the output, but no offsets are needed because we're\n",
    "    # filling the entire image.\n",
    "    out_band.WriteArray(data)\n",
    "\n",
    "del out_ds"
   ]
  },
  {
   "cell_type": "markdown",
   "id": "8d30860a",
   "metadata": {},
   "source": [
    "### Ground control points"
   ]
  },
  {
   "cell_type": "code",
   "execution_count": null,
   "id": "faa38f7c",
   "metadata": {},
   "outputs": [],
   "source": [
    "# Make a copy of the original image so we're leaving it alone and changing\n",
    "# the new one.\n",
    "\n",
    "os.chdir(os.path.join(data_dir, 'utah'))\n",
    "shutil.copy('cache_no_gcp.tif', 'cache.tif')\n"
   ]
  },
  {
   "cell_type": "code",
   "execution_count": null,
   "id": "b6f3a7c7",
   "metadata": {},
   "outputs": [],
   "source": [
    "# Open the copied image so we can add GCPs to it.\n",
    "ds = gdal.Open('cache.tif', gdal.GA_Update)"
   ]
  },
  {
   "cell_type": "code",
   "execution_count": null,
   "id": "37be4b03",
   "metadata": {},
   "outputs": [],
   "source": [
    "# Create the SRS that the GCP coordinates use.\n",
    "sr = osr.SpatialReference()\n",
    "sr.SetWellKnownGeogCS('WGS84')"
   ]
  },
  {
   "cell_type": "code",
   "execution_count": null,
   "id": "05697d4b",
   "metadata": {},
   "outputs": [],
   "source": [
    "# Create the list of GCPs.\n",
    "gcps = [gdal.GCP(-111.931075, 41.745836, 0, 1078, 648),\n",
    "        gdal.GCP(-111.901655, 41.749269, 0, 3531, 295),\n",
    "        gdal.GCP(-111.899180, 41.739882, 0, 3722, 1334),\n",
    "        gdal.GCP(-111.930510, 41.728719, 0, 1102, 2548)]\n",
    "\n",
    "# Add the GCPs to the raster\n",
    "ds.SetGCPs(gcps, sr.ExportToWkt())\n",
    "ds.SetProjection(sr.ExportToWkt())\n",
    "ds = None"
   ]
  },
  {
   "cell_type": "code",
   "execution_count": null,
   "id": "60fda6a3",
   "metadata": {},
   "outputs": [],
   "source": [
    "# This time we'll use the driver to make a copy of the raster and then add\n",
    "# a geotransform instead of GCPs. This still uses the sr and gcps variables\n",
    "# from above.\n",
    "old_ds = gdal.Open('cache_no_gcp.tif')\n",
    "ds = old_ds.GetDriver().CreateCopy('cache2.tif', old_ds)\n",
    "ds.SetProjection(sr.ExportToWkt())\n",
    "ds.SetGeoTransform(gdal.GCPsToGeoTransform(gcps))\n",
    "del ds, old_ds"
   ]
  },
  {
   "cell_type": "markdown",
   "id": "c1b434b3",
   "metadata": {},
   "source": [
    "### Converting pixel coordinates to another image"
   ]
  },
  {
   "cell_type": "code",
   "execution_count": null,
   "id": "a5e47839",
   "metadata": {},
   "outputs": [],
   "source": [
    "# Create a function to get the extent of a raster \n",
    "def get_extent(fn):\n",
    "    '''Returns min_x, max_y, max_x, min_y'''\n",
    "    ds = gdal.Open(fn)\n",
    "    gt = ds.GetGeoTransform()\n",
    "    return (gt[0], gt[3], gt[0] + gt[1] * ds.RasterXSize,\n",
    "        gt[3] + gt[5] * ds.RasterYSize)\n"
   ]
  },
  {
   "cell_type": "code",
   "execution_count": null,
   "id": "042eb549",
   "metadata": {},
   "outputs": [],
   "source": [
    "# The raster with GCPs doesn't have a geotransform so this extent isn't\n",
    "# correct.\n",
    "os.chdir(os.path.join(data_dir, 'utah'))\n",
    "print(get_extent('cache.tif'))"
   ]
  },
  {
   "cell_type": "code",
   "execution_count": null,
   "id": "435b0afb",
   "metadata": {},
   "outputs": [],
   "source": [
    "# But this one is.\n",
    "print(get_extent('cache2.tif'))"
   ]
  },
  {
   "cell_type": "code",
   "execution_count": null,
   "id": "a7f93524",
   "metadata": {},
   "outputs": [],
   "source": [
    "os.chdir(os.path.join(data_dir, 'landsat', 'washington'))\n",
    "vashon_ds = gdal.Open('vashon.tif')\n",
    "full_ds = gdal.Open('nat_color.tif')"
   ]
  },
  {
   "cell_type": "code",
   "execution_count": null,
   "id": "b2635a72",
   "metadata": {},
   "outputs": [],
   "source": [
    "# Create a transformer that will map pixel coordinates from the Vashon\n",
    "# dataset into the full one.\n",
    "trans = gdal.Transformer(vashon_ds, full_ds, [])"
   ]
  },
  {
   "cell_type": "code",
   "execution_count": null,
   "id": "c07a3d23",
   "metadata": {},
   "outputs": [],
   "source": [
    "# Use the transformer to figure out the pixel offsets in the full image\n",
    "# that correspond with the upper left corner of the vashon one.\n",
    "success, xyz = trans.TransformPoint(False, 0, 0)\n",
    "print(success, xyz)"
   ]
  },
  {
   "cell_type": "code",
   "execution_count": null,
   "id": "9554f35f",
   "metadata": {},
   "outputs": [],
   "source": [
    "# If we use the output from that and go the reverse direction, we'll get the\n",
    "# upper left corner for vashon.\n",
    "success, xyz = trans.TransformPoint(True, 6606, 3753)\n",
    "print(success, xyz)"
   ]
  },
  {
   "cell_type": "markdown",
   "id": "89562cc1",
   "metadata": {},
   "source": [
    "### Color tables"
   ]
  },
  {
   "cell_type": "markdown",
   "id": "f41b1181",
   "metadata": {},
   "source": [
    "#### Add a color map to a raster"
   ]
  },
  {
   "cell_type": "code",
   "execution_count": null,
   "id": "72d6876a",
   "metadata": {},
   "outputs": [],
   "source": [
    "# Open an elevatin dataset\n",
    "os.chdir(r'D:\\osgeopy-data\\Switzerland')\n",
    "original_ds = gdal.Open('dem_class.tif')\n",
    "driver = gdal.GetDriverByName('gtiff')\n",
    "\n",
    "# Make a copy of dataset\n",
    "ds = driver.CreateCopy('dem_class2.tif', original_ds)\n",
    "band = ds.GetRasterBand(1)"
   ]
  },
  {
   "cell_type": "code",
   "execution_count": null,
   "id": "97d6e05e",
   "metadata": {},
   "outputs": [],
   "source": [
    "# Create a RGB ColorTable and add colors\n",
    "colors = gdal.ColorTable()\n",
    "colors.SetColorEntry(1, (112, 153, 89))\n",
    "colors.SetColorEntry(2, (242, 238, 162))\n",
    "colors.SetColorEntry(3, (242, 206, 133))\n",
    "colors.SetColorEntry(4, (194, 140, 124))\n",
    "colors.SetColorEntry(5, (214, 193, 156))"
   ]
  },
  {
   "cell_type": "code",
   "execution_count": null,
   "id": "1644783d",
   "metadata": {},
   "outputs": [],
   "source": [
    "# Add ColorTable to the band\n",
    "band.SetRasterColorTable(colors)\n",
    "band.SetRasterColorInterpretation(gdal.GCI_PaletteIndex)"
   ]
  },
  {
   "cell_type": "markdown",
   "id": "2c6e9c66",
   "metadata": {},
   "source": [
    "#### Edit ColorTable \n",
    "* Change the color map you created so that the highest elevation range displays as something closer to white"
   ]
  },
  {
   "cell_type": "code",
   "execution_count": null,
   "id": "d6c8c2fe",
   "metadata": {},
   "outputs": [],
   "source": [
    "os.chdir(os.path.join(data_dir, 'Switzerland'))\n",
    "original_ds = gdal.Open('dem_class2.tif')\n",
    "ds = original_ds.GetDriver().CreateCopy('dem_class3.tif', original_ds)"
   ]
  },
  {
   "cell_type": "code",
   "execution_count": null,
   "id": "a4ed177d",
   "metadata": {},
   "outputs": [],
   "source": [
    "# Get the existing color table from the band.\n",
    "band = ds.GetRasterBand(1)\n",
    "colors = band.GetRasterColorTable()"
   ]
  },
  {
   "cell_type": "code",
   "execution_count": null,
   "id": "5c9390e2",
   "metadata": {},
   "outputs": [],
   "source": [
    "# Change the entry for 5.\n",
    "colors.SetColorEntry(5, (250, 250, 250))"
   ]
  },
  {
   "cell_type": "code",
   "execution_count": null,
   "id": "96c5e1e6",
   "metadata": {},
   "outputs": [],
   "source": [
    "# Set the modified color table back on the raster.\n",
    "band.SetRasterColorTable(colors)\n",
    "del band, ds"
   ]
  },
  {
   "cell_type": "markdown",
   "id": "809600d0",
   "metadata": {},
   "source": [
    "### Transparency"
   ]
  },
  {
   "cell_type": "code",
   "execution_count": null,
   "id": "6dfdff73",
   "metadata": {},
   "outputs": [],
   "source": [
    "os.chdir(os.path.join(data_dir, 'switzerland'))\n",
    "original_ds = gdal.Open('dem_class2.tif')\n",
    "driver = gdal.GetDriverByName('gtiff')"
   ]
  },
  {
   "cell_type": "code",
   "execution_count": null,
   "id": "a92448bb",
   "metadata": {},
   "outputs": [],
   "source": [
    "# Create your dataset with two bands, where the first one is your pixel values as\n",
    "# before, and the second one holds alpha values\n",
    "ds = driver.Create('dem_class4.tif', original_ds.RasterXSize,\n",
    "    original_ds.RasterYSize, 2, gdal.GDT_Byte, ['ALPHA=YES'])\n",
    "\n",
    "# Add the projection and and geotransform info to the copy.\n",
    "ds.SetProjection(original_ds.GetProjection())\n",
    "ds.SetGeoTransform(original_ds.GetGeoTransform())"
   ]
  },
  {
   "cell_type": "code",
   "execution_count": null,
   "id": "c216d72a",
   "metadata": {},
   "outputs": [],
   "source": [
    "# Read the data in from dem_class2.\n",
    "original_band1 = original_ds.GetRasterBand(1)\n",
    "data = original_band1.ReadAsArray()"
   ]
  },
  {
   "cell_type": "code",
   "execution_count": null,
   "id": "ed8b32cf",
   "metadata": {},
   "outputs": [],
   "source": [
    "# Write the data to band 1 of the new raster and copy the color table over.\n",
    "band1 = ds.GetRasterBand(1)\n",
    "band1.WriteArray(data)\n",
    "band1.SetRasterColorTable(original_band1.GetRasterColorTable())\n",
    "band1.SetRasterColorInterpretation(gdal.GCI_PaletteIndex)\n",
    "band1.SetNoDataValue(original_band1.GetNoDataValue())\n",
    "\n",
    "ds.FlushCache()"
   ]
  },
  {
   "cell_type": "code",
   "execution_count": null,
   "id": "30709f3d",
   "metadata": {},
   "outputs": [],
   "source": [
    "#Then add values between 0 and 255 to your alpha band, where 0 means fully transparent\n",
    "#and 255 is fully opaque\n",
    "\n",
    "import numpy as np\n",
    "data = band1.ReadAsArray()\n",
    "data = np.where(data == 5, 65, 255)"
   ]
  },
  {
   "cell_type": "code",
   "execution_count": null,
   "id": "99a5519a",
   "metadata": {},
   "outputs": [],
   "source": [
    "# Now write the modified data array to the second (alpha) band in the new\n",
    "# raster.\n",
    "band2 = ds.GetRasterBand(2)\n",
    "band2.WriteArray(data)\n",
    "band2.SetRasterColorInterpretation(gdal.GCI_AlphaBand)\n",
    "\n",
    "del ds, original_ds"
   ]
  },
  {
   "cell_type": "markdown",
   "id": "2134cacd",
   "metadata": {},
   "source": [
    "### Histograms\n",
    "* frequency for the pixel values. \n",
    "* one example: calculating the area of each vegetation type in a vegetation classification"
   ]
  },
  {
   "cell_type": "code",
   "execution_count": null,
   "id": "1c37ad0e",
   "metadata": {},
   "outputs": [],
   "source": [
    "# Look at approximate vs exact histogram values.\n",
    "os.chdir(os.path.join(data_dir, 'switzerland'))\n",
    "ds = gdal.Open('dem_class2.tif')\n",
    "band = ds.GetRasterBand(1)"
   ]
  },
  {
   "cell_type": "code",
   "execution_count": null,
   "id": "ba7b9151",
   "metadata": {},
   "outputs": [],
   "source": [
    "# The easiest way to get a histogram\n",
    "approximate_hist = band.GetHistogram()\n",
    "exact_hist = band.GetHistogram(approx_ok=False)\n",
    "print('Approximate:', approximate_hist[:7], sum(approximate_hist))\n",
    "print('Exact:', exact_hist[:7], sum(exact_hist))"
   ]
  },
  {
   "cell_type": "markdown",
   "id": "cb38c3be",
   "metadata": {},
   "source": [
    "**Note** : The histogram consists of a list of counts, in order by bin. In this case the first count\n",
    "corresponds to pixel value 0, the second to pixel value 1, and so on. Here you only\n",
    "print the first seven entries, because the remaining 249 of them are all 0 for this dataset."
   ]
  },
  {
   "cell_type": "markdown",
   "id": "0714f615",
   "metadata": {},
   "source": [
    "<img src=\"images/aprox_and_exact_histogram.png\" alt=\"approximate and exact histograms\" width =340 height = 50/>\n",
    "\n",
    "                    The approximate and exact histograms generated from the classified elevation raster"
   ]
  },
  {
   "cell_type": "markdown",
   "id": "a67b29a8",
   "metadata": {},
   "source": [
    "**Note**: Notice that the numbers, including the sum, for the approximate histogram are much\n",
    "smaller than those for the exact. Therefore, the approximate numbers are not the way\n",
    "to go if you need to tabulate area, but they’d probably work well if you want relative\n",
    "frequencies. Also notice that no counts exist for a pixel value of 0. That’s because 0 is\n",
    "set to NoData, so it gets ignored."
   ]
  },
  {
   "cell_type": "code",
   "execution_count": null,
   "id": "cf179c92",
   "metadata": {},
   "outputs": [],
   "source": [
    "# Look at the current default histogram.\n",
    "print(band.GetDefaultHistogram())"
   ]
  },
  {
   "cell_type": "code",
   "execution_count": null,
   "id": "ee797efb",
   "metadata": {},
   "outputs": [],
   "source": [
    "# Change the default histogram so that it lumps 1 & 2, 3 & 4, and leaves 5 by itself.\n",
    "hist = band.GetHistogram(0.5, 6.5, 3, approx_ok=False)\n",
    "band.SetDefaultHistogram(1, 6, hist)"
   ]
  },
  {
   "cell_type": "code",
   "execution_count": null,
   "id": "1a549e9e",
   "metadata": {},
   "outputs": [],
   "source": [
    "# Look at what the default histogram is now.\n",
    "# returns a tuple containing the minimum pixel value, maximum pixel value, number of bins, and a list of counts\n",
    "print(band.GetDefaultHistogram())"
   ]
  },
  {
   "cell_type": "code",
   "execution_count": null,
   "id": "f745d26f",
   "metadata": {},
   "outputs": [],
   "source": [
    "# Get the individual bits of data from the default histogram.\n",
    "min_val, max_val, n, hist = band.GetDefaultHistogram()\n",
    "print(min_val, max_val, n)\n",
    "print(hist)"
   ]
  },
  {
   "cell_type": "markdown",
   "id": "e3a9ed72",
   "metadata": {},
   "source": [
    "### Reprojecting images"
   ]
  },
  {
   "cell_type": "code",
   "execution_count": null,
   "id": "1d650022",
   "metadata": {},
   "outputs": [],
   "source": [
    "# Reproject the nat_color.tif from UTM to unprojected lat/lon. \n",
    "# First create the output SRS.\n",
    "srs = osr.SpatialReference()\n",
    "srs.SetWellKnownGeogCS('WGS84')"
   ]
  },
  {
   "cell_type": "code",
   "execution_count": null,
   "id": "e62d7f5c",
   "metadata": {},
   "outputs": [],
   "source": [
    "# Open the nat_color file.\n",
    "os.chdir(os.path.join(data_dir, 'landsat', 'washington'))\n",
    "old_ds = gdal.Open('nat_color.tif')"
   ]
  },
  {
   "cell_type": "code",
   "execution_count": null,
   "id": "d6291bc1",
   "metadata": {},
   "outputs": [],
   "source": [
    "# Create a VRT in memory that does the reproject.\n",
    "vrt_ds = gdal.AutoCreateWarpedVRT(old_ds, None, srs.ExportToWkt(),\n",
    "    gdal.GRA_Bilinear)"
   ]
  },
  {
   "cell_type": "code",
   "execution_count": null,
   "id": "8b3e2985",
   "metadata": {},
   "outputs": [],
   "source": [
    "# Copy the VRT to a GeoTIFF so we have a file on disk.\n",
    "gdal.GetDriverByName('gtiff').CreateCopy('nat_color_wgs84.tif', vrt_ds)"
   ]
  },
  {
   "cell_type": "markdown",
   "id": "c8f2e7ba",
   "metadata": {},
   "source": [
    "### Callback functions"
   ]
  },
  {
   "cell_type": "code",
   "execution_count": null,
   "id": "39f7f146",
   "metadata": {},
   "outputs": [],
   "source": [
    "# Let's calculate statistics on the natural color Landsat image and show\n",
    "# progress while it does it (this image probably already has stats, so this\n",
    "# will go really fast). Watch your output window to see what happens.\n",
    "os.chdir(os.path.join(data_dir, 'landsat', 'washington'))\n",
    "ds = gdal.Open('nat_color.tif')\n",
    "for i in range(ds.RasterCount):\n",
    "    ds.GetRasterBand(i + 1).ComputeStatistics(False, gdal.TermProgress_nocb)\n"
   ]
  },
  {
   "cell_type": "code",
   "execution_count": null,
   "id": "18c5b5ec",
   "metadata": {},
   "outputs": [],
   "source": [
    "# How about using the gdal callback function with my own stuff? Let's just\n",
    "# list all of the files in the current diretory and pretend to do something\n",
    "# with them.\n",
    "def process_file(fn):\n",
    "    # Slow things down a bit by counting to 1,000,000 for each file.\n",
    "    for i in range(1000000):\n",
    "        pass # do nothing\n",
    "\n",
    "list_of_files = os.listdir('.')\n",
    "for i in range(len(list_of_files)):\n",
    "    process_file(list_of_files[i])\n",
    "    gdal.TermProgress_nocb(i / float(len(list_of_files)))\n",
    "gdal.TermProgress_nocb(100)"
   ]
  },
  {
   "cell_type": "code",
   "execution_count": null,
   "id": "4c66f497",
   "metadata": {},
   "outputs": [],
   "source": []
  }
 ],
 "metadata": {
  "kernelspec": {
   "display_name": "Python 3 (ipykernel)",
   "language": "python",
   "name": "python3"
  },
  "language_info": {
   "codemirror_mode": {
    "name": "ipython",
    "version": 3
   },
   "file_extension": ".py",
   "mimetype": "text/x-python",
   "name": "python",
   "nbconvert_exporter": "python",
   "pygments_lexer": "ipython3",
   "version": "3.9.7"
  }
 },
 "nbformat": 4,
 "nbformat_minor": 5
}
