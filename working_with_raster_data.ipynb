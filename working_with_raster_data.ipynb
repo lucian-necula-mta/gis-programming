{
 "cells": [
  {
   "cell_type": "code",
   "execution_count": 10,
   "id": "d4d3a1e3",
   "metadata": {},
   "outputs": [],
   "source": [
    "import os\n",
    "import shutil\n",
    "import numpy as np\n",
    "from osgeo import gdal, osr"
   ]
  },
  {
   "cell_type": "code",
   "execution_count": 11,
   "id": "baab0fda",
   "metadata": {},
   "outputs": [],
   "source": [
    "data_dir = r\"osgeopy-data\""
   ]
  },
  {
   "cell_type": "markdown",
   "id": "8d30860a",
   "metadata": {},
   "source": [
    "### Ground control points"
   ]
  },
  {
   "cell_type": "code",
   "execution_count": 12,
   "id": "faa38f7c",
   "metadata": {},
   "outputs": [
    {
     "ename": "FileNotFoundError",
     "evalue": "[WinError 3] The system cannot find the path specified: 'osgeopy-data\\\\utah'",
     "output_type": "error",
     "traceback": [
      "\u001b[1;31m---------------------------------------------------------------------------\u001b[0m",
      "\u001b[1;31mFileNotFoundError\u001b[0m                         Traceback (most recent call last)",
      "Input \u001b[1;32mIn [12]\u001b[0m, in \u001b[0;36m<cell line: 4>\u001b[1;34m()\u001b[0m\n\u001b[0;32m      1\u001b[0m \u001b[38;5;66;03m# Make a copy of the original image so we're leaving it alone and changing\u001b[39;00m\n\u001b[0;32m      2\u001b[0m \u001b[38;5;66;03m# the new one.\u001b[39;00m\n\u001b[1;32m----> 4\u001b[0m \u001b[43mos\u001b[49m\u001b[38;5;241;43m.\u001b[39;49m\u001b[43mchdir\u001b[49m\u001b[43m(\u001b[49m\u001b[38;5;124;43mr\u001b[39;49m\u001b[38;5;124;43m\"\u001b[39;49m\u001b[38;5;124;43mosgeopy-data\u001b[39;49m\u001b[38;5;124;43m\\\u001b[39;49m\u001b[38;5;124;43mutah\u001b[39;49m\u001b[38;5;124;43m\"\u001b[39;49m\u001b[43m)\u001b[49m\n\u001b[0;32m      5\u001b[0m shutil\u001b[38;5;241m.\u001b[39mcopy(\u001b[38;5;124m\"\u001b[39m\u001b[38;5;124mcache_no_gcp.tif\u001b[39m\u001b[38;5;124m\"\u001b[39m, \u001b[38;5;124m\"\u001b[39m\u001b[38;5;124mcache.tif\u001b[39m\u001b[38;5;124m\"\u001b[39m)\n",
      "\u001b[1;31mFileNotFoundError\u001b[0m: [WinError 3] The system cannot find the path specified: 'osgeopy-data\\\\utah'"
     ]
    }
   ],
   "source": [
    "# Make a copy of the original image so we're leaving it alone and changing\n",
    "# the new one.\n",
    "\n",
    "os.chdir(r'osgeopy-data\\utah')\n",
    "shutil.copy('cache_no_gcp.tif', 'cache.tif')\n"
   ]
  },
  {
   "cell_type": "code",
   "execution_count": null,
   "id": "b6f3a7c7",
   "metadata": {},
   "outputs": [],
   "source": [
    "# Open the copied image so we can add GCPs to it.\n",
    "ds = gdal.Open('cache.tif', gdal.GA_Update)"
   ]
  },
  {
   "cell_type": "code",
   "execution_count": null,
   "id": "37be4b03",
   "metadata": {},
   "outputs": [],
   "source": [
    "# Create the SRS that the GCP coordinates use.\n",
    "sr = osr.SpatialReference()\n",
    "sr.SetWellKnownGeogCS('WGS84')"
   ]
  },
  {
   "cell_type": "code",
   "execution_count": null,
   "id": "05697d4b",
   "metadata": {},
   "outputs": [],
   "source": [
    "# Create the list of GCPs.\n",
    "gcps = [gdal.GCP(-111.931075, 41.745836, 0, 1078, 648),\n",
    "        gdal.GCP(-111.901655, 41.749269, 0, 3531, 295),\n",
    "        gdal.GCP(-111.899180, 41.739882, 0, 3722, 1334),\n",
    "        gdal.GCP(-111.930510, 41.728719, 0, 1102, 2548)]\n",
    "\n",
    "# Add the GCPs to the raster\n",
    "ds.SetGCPs(gcps, sr.ExportToWkt())\n",
    "ds.SetProjection(sr.ExportToWkt())\n",
    "ds = None"
   ]
  },
  {
   "cell_type": "code",
   "execution_count": null,
   "id": "60fda6a3",
   "metadata": {},
   "outputs": [],
   "source": [
    "# This time we'll use the driver to make a copy of the raster and then add\n",
    "# a geotransform instead of GCPs. This still uses the sr and gcps variables\n",
    "# from above.\n",
    "old_ds = gdal.Open('cache_no_gcp.tif')\n",
    "ds = old_ds.GetDriver().CreateCopy('cache2.tif', old_ds)\n",
    "ds.SetProjection(sr.ExportToWkt())\n",
    "ds.SetGeoTransform(gdal.GCPsToGeoTransform(gcps))\n",
    "del ds, old_ds"
   ]
  },
  {
   "cell_type": "markdown",
   "id": "c1b434b3",
   "metadata": {},
   "source": [
    "### Converting pixel coordinates to another image"
   ]
  },
  {
   "cell_type": "code",
   "execution_count": null,
   "id": "a5e47839",
   "metadata": {},
   "outputs": [],
   "source": [
    "# Create a function to get the extent of a raster \n",
    "def get_extent(fn):\n",
    "    '''Returns min_x, max_y, max_x, min_y'''\n",
    "    ds = gdal.Open(fn)\n",
    "    gt = ds.GetGeoTransform()\n",
    "    return (gt[0], gt[3], gt[0] + gt[1] * ds.RasterXSize,\n",
    "        gt[3] + gt[5] * ds.RasterYSize)\n"
   ]
  },
  {
   "cell_type": "code",
   "execution_count": 9,
   "id": "042eb549",
   "metadata": {},
   "outputs": [
    {
     "ename": "AttributeError",
     "evalue": "'NoneType' object has no attribute 'GetGeoTransform'",
     "output_type": "error",
     "traceback": [
      "\u001b[1;31m---------------------------------------------------------------------------\u001b[0m",
      "\u001b[1;31mAttributeError\u001b[0m                            Traceback (most recent call last)",
      "Input \u001b[1;32mIn [9]\u001b[0m, in \u001b[0;36m<cell line: 4>\u001b[1;34m()\u001b[0m\n\u001b[0;32m      1\u001b[0m \u001b[38;5;66;03m# The raster with GCPs doesn't have a geotransform so this extent isn't\u001b[39;00m\n\u001b[0;32m      2\u001b[0m \u001b[38;5;66;03m# correct.\u001b[39;00m\n\u001b[0;32m      3\u001b[0m fn \u001b[38;5;241m=\u001b[39m os\u001b[38;5;241m.\u001b[39mpath\u001b[38;5;241m.\u001b[39mjoin(data_dir, \u001b[38;5;124m\"\u001b[39m\u001b[38;5;124mutah\u001b[39m\u001b[38;5;124m\"\u001b[39m, \u001b[38;5;124m\"\u001b[39m\u001b[38;5;124mcache.tif\u001b[39m\u001b[38;5;124m\"\u001b[39m)\n\u001b[1;32m----> 4\u001b[0m \u001b[38;5;28mprint\u001b[39m(\u001b[43mget_extent\u001b[49m\u001b[43m(\u001b[49m\u001b[43mfn\u001b[49m\u001b[43m)\u001b[49m)\n",
      "Input \u001b[1;32mIn [8]\u001b[0m, in \u001b[0;36mget_extent\u001b[1;34m(fn)\u001b[0m\n\u001b[0;32m      3\u001b[0m \u001b[38;5;124;03m'''Returns min_x, max_y, max_x, min_y'''\u001b[39;00m\n\u001b[0;32m      4\u001b[0m ds \u001b[38;5;241m=\u001b[39m gdal\u001b[38;5;241m.\u001b[39mOpen(fn)\n\u001b[1;32m----> 5\u001b[0m gt \u001b[38;5;241m=\u001b[39m \u001b[43mds\u001b[49m\u001b[38;5;241;43m.\u001b[39;49m\u001b[43mGetGeoTransform\u001b[49m()\n\u001b[0;32m      6\u001b[0m \u001b[38;5;28;01mreturn\u001b[39;00m (gt[\u001b[38;5;241m0\u001b[39m], gt[\u001b[38;5;241m3\u001b[39m], gt[\u001b[38;5;241m0\u001b[39m] \u001b[38;5;241m+\u001b[39m gt[\u001b[38;5;241m1\u001b[39m] \u001b[38;5;241m*\u001b[39m ds\u001b[38;5;241m.\u001b[39mRasterXSize,\n\u001b[0;32m      7\u001b[0m     gt[\u001b[38;5;241m3\u001b[39m] \u001b[38;5;241m+\u001b[39m gt[\u001b[38;5;241m5\u001b[39m] \u001b[38;5;241m*\u001b[39m ds\u001b[38;5;241m.\u001b[39mRasterYSize)\n",
      "\u001b[1;31mAttributeError\u001b[0m: 'NoneType' object has no attribute 'GetGeoTransform'"
     ]
    }
   ],
   "source": [
    "# The raster with GCPs doesn't have a geotransform so this extent isn't\n",
    "# correct.\n",
    "os.chdir(os.path.join(data_dir, 'utah'))\n",
    "print(get_extent('cache.tif'))"
   ]
  },
  {
   "cell_type": "code",
   "execution_count": null,
   "id": "435b0afb",
   "metadata": {},
   "outputs": [],
   "source": [
    "# But this one is.\n",
    "print(get_extent('cache2.tif'))"
   ]
  },
  {
   "cell_type": "code",
   "execution_count": null,
   "id": "a7f93524",
   "metadata": {},
   "outputs": [],
   "source": [
    "os.chdir(os.path.join(data_dir, 'landsat', 'washington'))\n",
    "vashon_ds = gdal.Open(\"vashon.tif)\n",
    "full_ds = gdal.Open(\"nat_color.tif\")"
   ]
  },
  {
   "cell_type": "code",
   "execution_count": null,
   "id": "b2635a72",
   "metadata": {},
   "outputs": [],
   "source": [
    "# Create a transformer that will map pixel coordinates from the Vashon\n",
    "# dataset into the full one.\n",
    "trans = gdal.Transformer(vashon_ds, full_ds, [])"
   ]
  },
  {
   "cell_type": "code",
   "execution_count": null,
   "id": "c07a3d23",
   "metadata": {},
   "outputs": [],
   "source": [
    "# Use the transformer to figure out the pixel offsets in the full image\n",
    "# that correspond with the upper left corner of the vashon one.\n",
    "success, xyz = trans.TransformPoint(False, 0, 0)\n",
    "print(success, xyz)"
   ]
  },
  {
   "cell_type": "code",
   "execution_count": null,
   "id": "9554f35f",
   "metadata": {},
   "outputs": [],
   "source": [
    "# If we use the output from that and go the reverse direction, we'll get the\n",
    "# upper left corner for vashon.\n",
    "success, xyz = trans.TransformPoint(True, 6606, 3753)\n",
    "print(success, xyz)"
   ]
  },
  {
   "cell_type": "markdown",
   "id": "89562cc1",
   "metadata": {},
   "source": [
    "### Color tables"
   ]
  },
  {
   "cell_type": "code",
   "execution_count": null,
   "id": "d6c8c2fe",
   "metadata": {},
   "outputs": [],
   "source": [
    "os.chdir(os.path.join(data_dir, 'Switzerland'))\n",
    "original_ds = gdal.Open('dem_class2.tif')\n",
    "ds = original_ds.GetDriver().CreateCopy('dem_class3.tif', original_ds)"
   ]
  },
  {
   "cell_type": "code",
   "execution_count": null,
   "id": "a4ed177d",
   "metadata": {},
   "outputs": [],
   "source": [
    "# Get the existing color table from the band.\n",
    "band = ds.GetRasterBand(1)\n",
    "colors = band.GetRasterColorTable()"
   ]
  },
  {
   "cell_type": "code",
   "execution_count": null,
   "id": "5c9390e2",
   "metadata": {},
   "outputs": [],
   "source": [
    "# Change the entry for 5.\n",
    "colors.SetColorEntry(5, (250, 250, 250))"
   ]
  },
  {
   "cell_type": "code",
   "execution_count": null,
   "id": "96c5e1e6",
   "metadata": {},
   "outputs": [],
   "source": [
    "# Set the modified color table back on the raster.\n",
    "band.SetRasterColorTable(colors)\n",
    "del band, ds"
   ]
  },
  {
   "cell_type": "markdown",
   "id": "809600d0",
   "metadata": {},
   "source": [
    "### Transparency"
   ]
  },
  {
   "cell_type": "code",
   "execution_count": null,
   "id": "6dfdff73",
   "metadata": {},
   "outputs": [],
   "source": [
    "os.chdir(os.path.join(data_dir, 'switzerland'))\n",
    "original_ds = gdal.Open('dem_class2.tif')\n",
    "driver = gdal.GetDriverByName('gtiff')"
   ]
  },
  {
   "cell_type": "code",
   "execution_count": null,
   "id": "a92448bb",
   "metadata": {},
   "outputs": [],
   "source": [
    "ds = driver.Create('dem_class4.tif', original_ds.RasterXSize,\n",
    "    original_ds.RasterYSize, 2, gdal.GDT_Byte, ['ALPHA=YES'])\n",
    "\n",
    "# Add the projection and and geotransform info to the copy.\n",
    "ds.SetProjection(original_ds.GetProjection())\n",
    "ds.SetGeoTransform(original_ds.GetGeoTransform())"
   ]
  },
  {
   "cell_type": "code",
   "execution_count": null,
   "id": "c216d72a",
   "metadata": {},
   "outputs": [],
   "source": [
    "# Read the data in from dem_class2.\n",
    "original_band1 = original_ds.GetRasterBand(1)\n",
    "data = original_band1.ReadAsArray()"
   ]
  },
  {
   "cell_type": "code",
   "execution_count": null,
   "id": "ed8b32cf",
   "metadata": {},
   "outputs": [],
   "source": [
    "# Write the data to band 1 of the new raster and copy the color table over.\n",
    "band1 = ds.GetRasterBand(1)\n",
    "band1.WriteArray(data)\n",
    "band1.SetRasterColorTable(original_band1.GetRasterColorTable())\n",
    "band1.SetRasterColorInterpretation(gdal.GCI_PaletteIndex)\n",
    "band1.SetNoDataValue(original_band1.GetNoDataValue())\n",
    "\n",
    "ds.FlushCache()"
   ]
  },
  {
   "cell_type": "code",
   "execution_count": null,
   "id": "30709f3d",
   "metadata": {},
   "outputs": [],
   "source": [
    "# Now that we're finally done copying, go back to the text and find\n",
    "# everywhere in the data array that the pixel value is 5 and set\n",
    "# the value to 65 instead. Set everything else to 255.\n",
    "import numpy as np\n",
    "data = band1.ReadAsArray()\n",
    "data = np.where(data == 5, 65, 255)"
   ]
  },
  {
   "cell_type": "code",
   "execution_count": null,
   "id": "99a5519a",
   "metadata": {},
   "outputs": [],
   "source": [
    "# Now write the modified data array to the second (alpha) band in the new\n",
    "# raster.\n",
    "band2 = ds.GetRasterBand(2)\n",
    "band2.WriteArray(data)\n",
    "band2.SetRasterColorInterpretation(gdal.GCI_AlphaBand)\n",
    "\n",
    "del ds, original_ds"
   ]
  },
  {
   "cell_type": "markdown",
   "id": "2134cacd",
   "metadata": {},
   "source": [
    "### Histograms"
   ]
  },
  {
   "cell_type": "code",
   "execution_count": null,
   "id": "1c37ad0e",
   "metadata": {},
   "outputs": [],
   "source": [
    "# Look at approximate vs exact histogram values.\n",
    "os.chdir(os.path.join(data_dir, 'switzerland'))\n",
    "ds = gdal.Open('dem_class2.tif')\n",
    "band = ds.GetRasterBand(1)\n",
    "approximate_hist = band.GetHistogram()\n",
    "exact_hist = band.GetHistogram(approx_ok=False)\n",
    "print('Approximate:', approximate_hist[:7], sum(approximate_hist))\n",
    "print('Exact:', exact_hist[:7], sum(exact_hist))"
   ]
  },
  {
   "cell_type": "code",
   "execution_count": null,
   "id": "cf179c92",
   "metadata": {},
   "outputs": [],
   "source": [
    "# Look at the current default histogram.\n",
    "print(band.GetDefaultHistogram())"
   ]
  },
  {
   "cell_type": "code",
   "execution_count": null,
   "id": "ee797efb",
   "metadata": {},
   "outputs": [],
   "source": [
    "# Change the default histogram so that it lumps 1 & 2, 3 & 4, and leaves 5\n",
    "# by itself.\n",
    "hist = band.GetHistogram(0.5, 6.5, 3, approx_ok=False)\n",
    "band.SetDefaultHistogram(1, 6, hist)"
   ]
  },
  {
   "cell_type": "code",
   "execution_count": null,
   "id": "dd015dfa",
   "metadata": {},
   "outputs": [],
   "source": [
    "# Look at what the default histogram is now.\n",
    "print(band.GetDefaultHistogram())"
   ]
  },
  {
   "cell_type": "code",
   "execution_count": null,
   "id": "78e80a94",
   "metadata": {},
   "outputs": [],
   "source": [
    "# Get the individual bits of data from the default histogram.\n",
    "min_val, max_val, n, hist = band.GetDefaultHistogram()\n",
    "print(min_val, max_val, n)\n",
    "print(hist)"
   ]
  },
  {
   "cell_type": "markdown",
   "id": "cc3b01a1",
   "metadata": {},
   "source": [
    "### Reprojecting images"
   ]
  },
  {
   "cell_type": "code",
   "execution_count": null,
   "id": "0808dc81",
   "metadata": {},
   "outputs": [],
   "source": [
    "# Reproject the nat_color.tif from UTM to unprojected lat/lon. First create\n",
    "# the output SRS.\n",
    "srs = osr.SpatialReference()\n",
    "srs.SetWellKnownGeogCS('WGS84')"
   ]
  },
  {
   "cell_type": "code",
   "execution_count": null,
   "id": "00bac30e",
   "metadata": {},
   "outputs": [],
   "source": [
    "# Open the nat_color file.\n",
    "os.chdir(os.path.join(data_dir, 'landsat', 'washington'))\n",
    "old_ds = gdal.Open('nat_color.tif')"
   ]
  },
  {
   "cell_type": "code",
   "execution_count": null,
   "id": "c56eaf43",
   "metadata": {},
   "outputs": [],
   "source": [
    "# Create a VRT in memory that does the reproject.\n",
    "vrt_ds = gdal.AutoCreateWarpedVRT(old_ds, None, srs.ExportToWkt(),\n",
    "    gdal.GRA_Bilinear)"
   ]
  },
  {
   "cell_type": "code",
   "execution_count": null,
   "id": "2547693c",
   "metadata": {},
   "outputs": [],
   "source": [
    "# Copy the VRT to a GeoTIFF so we have a file on disk.\n",
    "gdal.GetDriverByName('gtiff').CreateCopy('nat_color_wgs84.tif', vrt_ds)"
   ]
  },
  {
   "cell_type": "markdown",
   "id": "663a7741",
   "metadata": {},
   "source": [
    "### Callback functions"
   ]
  },
  {
   "cell_type": "code",
   "execution_count": null,
   "id": "8e22d442",
   "metadata": {},
   "outputs": [],
   "source": [
    "# Let's calculate statistics on the natural color Landsat image and show\n",
    "# progress while it does it (this image probably already has stats, so this\n",
    "# will go really fast). Watch your output window to see what happens.\n",
    "os.chdir(os.path.join(data_dir, 'landsat', 'washington'))\n",
    "ds = gdal.Open('nat_color.tif')\n",
    "for i in range(ds.RasterCount):\n",
    "    ds.GetRasterBand(i + 1).ComputeStatistics(False, gdal.TermProgress_nocb)\n"
   ]
  },
  {
   "cell_type": "code",
   "execution_count": null,
   "id": "ee28f3e4",
   "metadata": {},
   "outputs": [],
   "source": [
    "# How about using the gdal callback function with my own stuff? Let's just\n",
    "# list all of the files in the current diretory and pretend to do something\n",
    "# with them.\n",
    "def process_file(fn):\n",
    "    # Slow things down a bit by counting to 1,000,000 for each file.\n",
    "    for i in range(1000000):\n",
    "        pass # do nothing\n",
    "\n",
    "list_of_files = os.listdir('.')\n",
    "for i in range(len(list_of_files)):\n",
    "    process_file(list_of_files[i])\n",
    "    gdal.TermProgress_nocb(i / float(len(list_of_files)))\n",
    "gdal.TermProgress_nocb(100)"
   ]
  },
  {
   "cell_type": "code",
   "execution_count": null,
   "id": "0b6a6d12",
   "metadata": {},
   "outputs": [],
   "source": []
  }
 ],
 "metadata": {
  "kernelspec": {
   "display_name": "Python 3 (ipykernel)",
   "language": "python",
   "name": "python3"
  },
  "language_info": {
   "codemirror_mode": {
    "name": "ipython",
    "version": 3
   },
   "file_extension": ".py",
   "mimetype": "text/x-python",
   "name": "python",
   "nbconvert_exporter": "python",
   "pygments_lexer": "ipython3",
   "version": "3.9.7"
  }
 },
 "nbformat": 4,
 "nbformat_minor": 5
}
