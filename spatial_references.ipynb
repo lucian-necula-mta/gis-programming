{
 "cells": [
  {
   "cell_type": "code",
   "execution_count": 4,
   "id": "7810aa3f",
   "metadata": {},
   "outputs": [],
   "source": [
    "import os\n",
    "from osgeo import ogr\n",
    "import osgeopy as gp"
   ]
  },
  {
   "cell_type": "code",
   "execution_count": 5,
   "id": "a7ae9d5c",
   "metadata": {},
   "outputs": [],
   "source": [
    "data_dir = r'osgeopy-data'"
   ]
  },
  {
   "cell_type": "markdown",
   "id": "288eb1a5",
   "metadata": {},
   "source": [
    "## Using spatial references with OSR"
   ]
  },
  {
   "cell_type": "code",
   "execution_count": 6,
   "id": "f9b7ee34",
   "metadata": {},
   "outputs": [],
   "source": [
    "# import osr so you can work with spatial references.\n",
    "from osgeo import osr"
   ]
  },
  {
   "cell_type": "markdown",
   "id": "75873830",
   "metadata": {},
   "source": [
    "### Spatial reference objects"
   ]
  },
  {
   "cell_type": "code",
   "execution_count": 7,
   "id": "47aded61",
   "metadata": {},
   "outputs": [],
   "source": [
    "# Look at a geographic SRS.\n",
    "ds = ogr.Open(os.path.join(data_dir, 'us', 'states_48.shp'))\n",
    "srs = ds.GetLayer().GetSpatialRef()"
   ]
  },
  {
   "cell_type": "code",
   "execution_count": 8,
   "id": "38f26515",
   "metadata": {
    "scrolled": true
   },
   "outputs": [
    {
     "name": "stdout",
     "output_type": "stream",
     "text": [
      "GEOGCS[\"NAD83\",\n",
      "    DATUM[\"North_American_Datum_1983\",\n",
      "        SPHEROID[\"GRS 1980\",6378137,298.257222101,\n",
      "            AUTHORITY[\"EPSG\",\"7019\"]],\n",
      "        AUTHORITY[\"EPSG\",\"6269\"]],\n",
      "    PRIMEM[\"Greenwich\",0,\n",
      "        AUTHORITY[\"EPSG\",\"8901\"]],\n",
      "    UNIT[\"degree\",0.0174532925199433,\n",
      "        AUTHORITY[\"EPSG\",\"9122\"]],\n",
      "    AXIS[\"Latitude\",NORTH],\n",
      "    AXIS[\"Longitude\",EAST],\n",
      "    AUTHORITY[\"EPSG\",\"4269\"]]\n"
     ]
    }
   ],
   "source": [
    "# Well Known Text (WKT)\n",
    "print(srs)"
   ]
  },
  {
   "cell_type": "code",
   "execution_count": 9,
   "id": "9a94bc0a",
   "metadata": {},
   "outputs": [
    {
     "name": "stdout",
     "output_type": "stream",
     "text": [
      "+proj=longlat +datum=NAD83 +no_defs\n"
     ]
    }
   ],
   "source": [
    "# PROJ.4\n",
    "print(srs.ExportToProj4())"
   ]
  },
  {
   "cell_type": "code",
   "execution_count": 10,
   "id": "4b7e1160",
   "metadata": {},
   "outputs": [
    {
     "name": "stdout",
     "output_type": "stream",
     "text": [
      "<gml:GeographicCRS gml:id=\"ogrcrs1\">\n",
      "  <gml:srsName>NAD83</gml:srsName>\n",
      "  <gml:srsID>\n",
      "    <gml:name codeSpace=\"urn:ogc:def:crs:EPSG::\">4269</gml:name>\n",
      "  </gml:srsID>\n",
      "  <gml:usesEllipsoidalCS>\n",
      "    <gml:EllipsoidalCS gml:id=\"ogrcrs2\">\n",
      "      <gml:csName>ellipsoidal</gml:csName>\n",
      "      <gml:csID>\n",
      "        <gml:name codeSpace=\"urn:ogc:def:cs:EPSG::\">6402</gml:name>\n",
      "      </gml:csID>\n",
      "      <gml:usesAxis>\n",
      "        <gml:CoordinateSystemAxis gml:id=\"ogrcrs3\" gml:uom=\"urn:ogc:def:uom:EPSG::9102\">\n",
      "          <gml:name>Geodetic latitude</gml:name>\n",
      "          <gml:axisID>\n",
      "            <gml:name codeSpace=\"urn:ogc:def:axis:EPSG::\">9901</gml:name>\n",
      "          </gml:axisID>\n",
      "          <gml:axisAbbrev>Lat</gml:axisAbbrev>\n",
      "          <gml:axisDirection>north</gml:axisDirection>\n",
      "        </gml:CoordinateSystemAxis>\n",
      "      </gml:usesAxis>\n",
      "      <gml:usesAxis>\n",
      "        <gml:CoordinateSystemAxis gml:id=\"ogrcrs4\" gml:uom=\"urn:ogc:def:uom:EPSG::9102\">\n",
      "          <gml:name>Geodetic longitude</gml:name>\n",
      "          <gml:axisID>\n",
      "            <gml:name codeSpace=\"urn:ogc:def:axis:EPSG::\">9902</gml:name>\n",
      "          </gml:axisID>\n",
      "          <gml:axisAbbrev>Lon</gml:axisAbbrev>\n",
      "          <gml:axisDirection>east</gml:axisDirection>\n",
      "        </gml:CoordinateSystemAxis>\n",
      "      </gml:usesAxis>\n",
      "    </gml:EllipsoidalCS>\n",
      "  </gml:usesEllipsoidalCS>\n",
      "  <gml:usesGeodeticDatum>\n",
      "    <gml:GeodeticDatum gml:id=\"ogrcrs5\">\n",
      "      <gml:datumName>North_American_Datum_1983</gml:datumName>\n",
      "      <gml:datumID>\n",
      "        <gml:name codeSpace=\"urn:ogc:def:datum:EPSG::\">6269</gml:name>\n",
      "      </gml:datumID>\n",
      "      <gml:usesPrimeMeridian>\n",
      "        <gml:PrimeMeridian gml:id=\"ogrcrs6\">\n",
      "          <gml:meridianName>Greenwich</gml:meridianName>\n",
      "          <gml:meridianID>\n",
      "            <gml:name codeSpace=\"urn:ogc:def:meridian:EPSG::\">8901</gml:name>\n",
      "          </gml:meridianID>\n",
      "          <gml:greenwichLongitude>\n",
      "            <gml:angle uom=\"urn:ogc:def:uom:EPSG::9102\">0</gml:angle>\n",
      "          </gml:greenwichLongitude>\n",
      "        </gml:PrimeMeridian>\n",
      "      </gml:usesPrimeMeridian>\n",
      "      <gml:usesEllipsoid>\n",
      "        <gml:Ellipsoid gml:id=\"ogrcrs7\">\n",
      "          <gml:ellipsoidName>GRS 1980</gml:ellipsoidName>\n",
      "          <gml:ellipsoidID>\n",
      "            <gml:name codeSpace=\"urn:ogc:def:ellipsoid:EPSG::\">7019</gml:name>\n",
      "          </gml:ellipsoidID>\n",
      "          <gml:semiMajorAxis uom=\"urn:ogc:def:uom:EPSG::9001\">6378137</gml:semiMajorAxis>\n",
      "          <gml:secondDefiningParameter>\n",
      "            <gml:inverseFlattening uom=\"urn:ogc:def:uom:EPSG::9201\">298.257222101</gml:inverseFlattening>\n",
      "          </gml:secondDefiningParameter>\n",
      "        </gml:Ellipsoid>\n",
      "      </gml:usesEllipsoid>\n",
      "    </gml:GeodeticDatum>\n",
      "  </gml:usesGeodeticDatum>\n",
      "</gml:GeographicCRS>\n",
      "\n"
     ]
    }
   ],
   "source": [
    "# XML\n",
    "print(srs.ExportToXML())"
   ]
  },
  {
   "cell_type": "code",
   "execution_count": 15,
   "id": "4bdc7116",
   "metadata": {},
   "outputs": [
    {
     "name": "stdout",
     "output_type": "stream",
     "text": [
      "PROJCS[\"NAD83 / UTM zone 12N\",\n",
      "    GEOGCS[\"NAD83\",\n",
      "        DATUM[\"North_American_Datum_1983\",\n",
      "            SPHEROID[\"GRS 1980\",6378137,298.257222101,\n",
      "                AUTHORITY[\"EPSG\",\"7019\"]],\n",
      "            AUTHORITY[\"EPSG\",\"6269\"]],\n",
      "        PRIMEM[\"Greenwich\",0,\n",
      "            AUTHORITY[\"EPSG\",\"8901\"]],\n",
      "        UNIT[\"degree\",0.0174532925199433,\n",
      "            AUTHORITY[\"EPSG\",\"9122\"]],\n",
      "        AUTHORITY[\"EPSG\",\"4269\"]],\n",
      "    PROJECTION[\"Transverse_Mercator\"],\n",
      "    PARAMETER[\"latitude_of_origin\",0],\n",
      "    PARAMETER[\"central_meridian\",-111],\n",
      "    PARAMETER[\"scale_factor\",0.9996],\n",
      "    PARAMETER[\"false_easting\",500000],\n",
      "    PARAMETER[\"false_northing\",0],\n",
      "    UNIT[\"metre\",1,\n",
      "        AUTHORITY[\"EPSG\",\"9001\"]],\n",
      "    AXIS[\"Easting\",EAST],\n",
      "    AXIS[\"Northing\",NORTH],\n",
      "    AUTHORITY[\"EPSG\",\"26912\"]]\n",
      "+proj=utm +zone=12 +datum=NAD83 +units=m +no_defs\n",
      "<gml:ProjectedCRS gml:id=\"ogrcrs27\">\n",
      "  <gml:srsName>NAD83 / UTM zone 12N</gml:srsName>\n",
      "  <gml:srsID>\n",
      "    <gml:name codeSpace=\"urn:ogc:def:crs:EPSG::\">26912</gml:name>\n",
      "  </gml:srsID>\n",
      "  <gml:baseCRS>\n",
      "    <gml:GeographicCRS gml:id=\"ogrcrs28\">\n",
      "      <gml:srsName>NAD83</gml:srsName>\n",
      "      <gml:srsID>\n",
      "        <gml:name codeSpace=\"urn:ogc:def:crs:EPSG::\">4269</gml:name>\n",
      "      </gml:srsID>\n",
      "      <gml:usesEllipsoidalCS>\n",
      "        <gml:EllipsoidalCS gml:id=\"ogrcrs29\">\n",
      "          <gml:csName>ellipsoidal</gml:csName>\n",
      "          <gml:csID>\n",
      "            <gml:name codeSpace=\"urn:ogc:def:cs:EPSG::\">6402</gml:name>\n",
      "          </gml:csID>\n",
      "          <gml:usesAxis>\n",
      "            <gml:CoordinateSystemAxis gml:id=\"ogrcrs30\" gml:uom=\"urn:ogc:def:uom:EPSG::9102\">\n",
      "              <gml:name>Geodetic latitude</gml:name>\n",
      "              <gml:axisID>\n",
      "                <gml:name codeSpace=\"urn:ogc:def:axis:EPSG::\">9901</gml:name>\n",
      "              </gml:axisID>\n",
      "              <gml:axisAbbrev>Lat</gml:axisAbbrev>\n",
      "              <gml:axisDirection>north</gml:axisDirection>\n",
      "            </gml:CoordinateSystemAxis>\n",
      "          </gml:usesAxis>\n",
      "          <gml:usesAxis>\n",
      "            <gml:CoordinateSystemAxis gml:id=\"ogrcrs31\" gml:uom=\"urn:ogc:def:uom:EPSG::9102\">\n",
      "              <gml:name>Geodetic longitude</gml:name>\n",
      "              <gml:axisID>\n",
      "                <gml:name codeSpace=\"urn:ogc:def:axis:EPSG::\">9902</gml:name>\n",
      "              </gml:axisID>\n",
      "              <gml:axisAbbrev>Lon</gml:axisAbbrev>\n",
      "              <gml:axisDirection>east</gml:axisDirection>\n",
      "            </gml:CoordinateSystemAxis>\n",
      "          </gml:usesAxis>\n",
      "        </gml:EllipsoidalCS>\n",
      "      </gml:usesEllipsoidalCS>\n",
      "      <gml:usesGeodeticDatum>\n",
      "        <gml:GeodeticDatum gml:id=\"ogrcrs32\">\n",
      "          <gml:datumName>North_American_Datum_1983</gml:datumName>\n",
      "          <gml:datumID>\n",
      "            <gml:name codeSpace=\"urn:ogc:def:datum:EPSG::\">6269</gml:name>\n",
      "          </gml:datumID>\n",
      "          <gml:usesPrimeMeridian>\n",
      "            <gml:PrimeMeridian gml:id=\"ogrcrs33\">\n",
      "              <gml:meridianName>Greenwich</gml:meridianName>\n",
      "              <gml:meridianID>\n",
      "                <gml:name codeSpace=\"urn:ogc:def:meridian:EPSG::\">8901</gml:name>\n",
      "              </gml:meridianID>\n",
      "              <gml:greenwichLongitude>\n",
      "                <gml:angle uom=\"urn:ogc:def:uom:EPSG::9102\">0</gml:angle>\n",
      "              </gml:greenwichLongitude>\n",
      "            </gml:PrimeMeridian>\n",
      "          </gml:usesPrimeMeridian>\n",
      "          <gml:usesEllipsoid>\n",
      "            <gml:Ellipsoid gml:id=\"ogrcrs34\">\n",
      "              <gml:ellipsoidName>GRS 1980</gml:ellipsoidName>\n",
      "              <gml:ellipsoidID>\n",
      "                <gml:name codeSpace=\"urn:ogc:def:ellipsoid:EPSG::\">7019</gml:name>\n",
      "              </gml:ellipsoidID>\n",
      "              <gml:semiMajorAxis uom=\"urn:ogc:def:uom:EPSG::9001\">6378137</gml:semiMajorAxis>\n",
      "              <gml:secondDefiningParameter>\n",
      "                <gml:inverseFlattening uom=\"urn:ogc:def:uom:EPSG::9201\">298.257222101</gml:inverseFlattening>\n",
      "              </gml:secondDefiningParameter>\n",
      "            </gml:Ellipsoid>\n",
      "          </gml:usesEllipsoid>\n",
      "        </gml:GeodeticDatum>\n",
      "      </gml:usesGeodeticDatum>\n",
      "    </gml:GeographicCRS>\n",
      "  </gml:baseCRS>\n",
      "  <gml:definedByConversion>\n",
      "    <gml:Conversion gml:id=\"ogrcrs35\">\n",
      "      <gml:coordinateOperationName>Transverse_Mercator</gml:coordinateOperationName>\n",
      "      <gml:usesMethod xlink:href=\"urn:ogc:def:method:EPSG::9807\" />\n",
      "      <gml:usesValue>\n",
      "        <gml:value uom=\"urn:ogc:def:uom:EPSG::9102\">0</gml:value>\n",
      "        <gml:valueOfParameter xlink:href=\"urn:ogc:def:parameter:EPSG::8801\" />\n",
      "      </gml:usesValue>\n",
      "      <gml:usesValue>\n",
      "        <gml:value uom=\"urn:ogc:def:uom:EPSG::9102\">-111</gml:value>\n",
      "        <gml:valueOfParameter xlink:href=\"urn:ogc:def:parameter:EPSG::8802\" />\n",
      "      </gml:usesValue>\n",
      "      <gml:usesValue>\n",
      "        <gml:value uom=\"urn:ogc:def:uom:EPSG::9001\">0.9996</gml:value>\n",
      "        <gml:valueOfParameter xlink:href=\"urn:ogc:def:parameter:EPSG::8805\" />\n",
      "      </gml:usesValue>\n",
      "      <gml:usesValue>\n",
      "        <gml:value uom=\"urn:ogc:def:uom:EPSG::9001\">500000</gml:value>\n",
      "        <gml:valueOfParameter xlink:href=\"urn:ogc:def:parameter:EPSG::8806\" />\n",
      "      </gml:usesValue>\n",
      "      <gml:usesValue>\n",
      "        <gml:value uom=\"urn:ogc:def:uom:EPSG::9001\">0</gml:value>\n",
      "        <gml:valueOfParameter xlink:href=\"urn:ogc:def:parameter:EPSG::8807\" />\n",
      "      </gml:usesValue>\n",
      "    </gml:Conversion>\n",
      "  </gml:definedByConversion>\n",
      "  <gml:usesCartesianCS>\n",
      "    <gml:CartesianCS gml:id=\"ogrcrs36\">\n",
      "      <gml:csName>Cartesian</gml:csName>\n",
      "      <gml:csID>\n",
      "        <gml:name codeSpace=\"urn:ogc:def:cs:EPSG::\">4400</gml:name>\n",
      "      </gml:csID>\n",
      "      <gml:usesAxis>\n",
      "        <gml:CoordinateSystemAxis gml:id=\"ogrcrs37\" gml:uom=\"urn:ogc:def:uom:EPSG::9001\">\n",
      "          <gml:name>Easting</gml:name>\n",
      "          <gml:axisID>\n",
      "            <gml:name codeSpace=\"urn:ogc:def:axis:EPSG::\">9906</gml:name>\n",
      "          </gml:axisID>\n",
      "          <gml:axisAbbrev>E</gml:axisAbbrev>\n",
      "          <gml:axisDirection>east</gml:axisDirection>\n",
      "        </gml:CoordinateSystemAxis>\n",
      "      </gml:usesAxis>\n",
      "      <gml:usesAxis>\n",
      "        <gml:CoordinateSystemAxis gml:id=\"ogrcrs38\" gml:uom=\"urn:ogc:def:uom:EPSG::9001\">\n",
      "          <gml:name>Northing</gml:name>\n",
      "          <gml:axisID>\n",
      "            <gml:name codeSpace=\"urn:ogc:def:axis:EPSG::\">9907</gml:name>\n",
      "          </gml:axisID>\n",
      "          <gml:axisAbbrev>N</gml:axisAbbrev>\n",
      "          <gml:axisDirection>north</gml:axisDirection>\n",
      "        </gml:CoordinateSystemAxis>\n",
      "      </gml:usesAxis>\n",
      "    </gml:CartesianCS>\n",
      "  </gml:usesCartesianCS>\n",
      "</gml:ProjectedCRS>\n",
      "\n"
     ]
    }
   ],
   "source": [
    "# Look at a UTM SRS.\n",
    "utm_sr = osr.SpatialReference()\n",
    "utm_sr.ImportFromEPSG(26912)\n",
    "print(utm_sr) # WKT\n",
    "print(utm_sr.ExportToProj4()) # PROJ.4\n",
    "print(utm_sr.ExportToXML()) # XML"
   ]
  },
  {
   "cell_type": "code",
   "execution_count": 16,
   "id": "0683581f",
   "metadata": {},
   "outputs": [
    {
     "name": "stdout",
     "output_type": "stream",
     "text": [
      "NAD83 / UTM zone 12N\n"
     ]
    }
   ],
   "source": [
    "# Get the projection name.\n",
    "print(utm_sr.GetAttrValue('PROJCS'))"
   ]
  },
  {
   "cell_type": "code",
   "execution_count": 17,
   "id": "7aa384e9",
   "metadata": {},
   "outputs": [
    {
     "name": "stdout",
     "output_type": "stream",
     "text": [
      "EPSG\n",
      "26912\n"
     ]
    }
   ],
   "source": [
    "# Get the authority.\n",
    "print(utm_sr.GetAttrValue('AUTHORITY'))\n",
    "print(utm_sr.GetAttrValue('AUTHORITY', 1))"
   ]
  },
  {
   "cell_type": "code",
   "execution_count": 18,
   "id": "2e4bf15d",
   "metadata": {},
   "outputs": [
    {
     "name": "stdout",
     "output_type": "stream",
     "text": [
      "6269\n"
     ]
    }
   ],
   "source": [
    "# Get the datum code.\n",
    "print(utm_sr.GetAuthorityCode('DATUM'))"
   ]
  },
  {
   "cell_type": "code",
   "execution_count": 21,
   "id": "8f3c3ac1",
   "metadata": {},
   "outputs": [
    {
     "name": "stdout",
     "output_type": "stream",
     "text": [
      "500000.0\n"
     ]
    }
   ],
   "source": [
    "# Get the false easting.\n",
    "print(utm_sr.GetProjParm(osr.SRS_PP_FALSE_EASTING))"
   ]
  },
  {
   "cell_type": "markdown",
   "id": "c90db0b5",
   "metadata": {},
   "source": [
    "### Creating spatial reference objects"
   ]
  },
  {
   "cell_type": "code",
   "execution_count": 22,
   "id": "d0228e60",
   "metadata": {},
   "outputs": [
    {
     "name": "stdout",
     "output_type": "stream",
     "text": [
      "NAD83 / UTM zone 12N\n"
     ]
    }
   ],
   "source": [
    "# Create a UTM SRS from an EPSG code.\n",
    "sr = osr.SpatialReference()\n",
    "sr.ImportFromEPSG(26912)\n",
    "print(sr.GetAttrValue('PROJCS'))"
   ]
  },
  {
   "cell_type": "code",
   "execution_count": 24,
   "id": "e35b00c6",
   "metadata": {},
   "outputs": [
    {
     "name": "stdout",
     "output_type": "stream",
     "text": [
      "unknown\n"
     ]
    }
   ],
   "source": [
    "# Create a UTM SRS from a PROJ.4 string.\n",
    "sr = osr.SpatialReference()\n",
    "sr.ImportFromProj4('''+proj=utm +zone=12 +ellps=GRS80\n",
    "                      +towgs84=0,0,0,0,0,0,0 +units=m +no_defs ''')\n",
    "print(sr.GetAttrValue('PROJCS'))"
   ]
  },
  {
   "cell_type": "code",
   "execution_count": 25,
   "id": "a667f91d",
   "metadata": {},
   "outputs": [
    {
     "name": "stdout",
     "output_type": "stream",
     "text": [
      "GEOGCS[\"NAD83\",\n",
      "    DATUM[\"North_American_Datum_1983\",\n",
      "        SPHEROID[\"GRS 1980\",6378137,298.257222101,\n",
      "            AUTHORITY[\"EPSG\",\"7019\"]],\n",
      "        AUTHORITY[\"EPSG\",\"6269\"]],\n",
      "    PRIMEM[\"Greenwich\",0],\n",
      "    UNIT[\"Degree\",0.0174532925199433],\n",
      "    AXIS[\"Longitude\",EAST],\n",
      "    AXIS[\"Latitude\",NORTH]]\n"
     ]
    }
   ],
   "source": [
    "# Create a unprojected SRS from a WKT string.\n",
    "wkt = '''GEOGCS[\"GCS_North_American_1983\",\n",
    "           DATUM[\"North_American_Datum_1983\",\n",
    "             SPHEROID[\"GRS_1980\",6378137.0,298.257222101]],\n",
    "           PRIMEM[\"Greenwich\",0.0],\n",
    "           UNIT[\"Degree\",0.0174532925199433]]'''\n",
    "sr = osr.SpatialReference(wkt)\n",
    "print(sr)"
   ]
  },
  {
   "cell_type": "code",
   "execution_count": 26,
   "id": "1333b639",
   "metadata": {},
   "outputs": [
    {
     "name": "stdout",
     "output_type": "stream",
     "text": [
      "PROJCS[\"USGS Albers\",\n",
      "    GEOGCS[\"NAD83\",\n",
      "        DATUM[\"North_American_Datum_1983\",\n",
      "            SPHEROID[\"GRS 1980\",6378137,298.257222101,\n",
      "                AUTHORITY[\"EPSG\",\"7019\"]],\n",
      "            AUTHORITY[\"EPSG\",\"6269\"]],\n",
      "        PRIMEM[\"Greenwich\",0,\n",
      "            AUTHORITY[\"EPSG\",\"8901\"]],\n",
      "        UNIT[\"degree\",0.0174532925199433,\n",
      "            AUTHORITY[\"EPSG\",\"9122\"]],\n",
      "        AUTHORITY[\"EPSG\",\"4269\"]],\n",
      "    PROJECTION[\"Albers_Conic_Equal_Area\"],\n",
      "    PARAMETER[\"latitude_of_center\",23],\n",
      "    PARAMETER[\"longitude_of_center\",-96],\n",
      "    PARAMETER[\"standard_parallel_1\",29.5],\n",
      "    PARAMETER[\"standard_parallel_2\",45.5],\n",
      "    PARAMETER[\"false_easting\",0],\n",
      "    PARAMETER[\"false_northing\",0],\n",
      "    UNIT[\"metre\",1,\n",
      "        AUTHORITY[\"EPSG\",\"9001\"]],\n",
      "    AXIS[\"Easting\",EAST],\n",
      "    AXIS[\"Northing\",NORTH]]\n"
     ]
    }
   ],
   "source": [
    "# Create an Albers SRS using parameters.\n",
    "sr = osr.SpatialReference()\n",
    "sr.SetProjCS('USGS Albers')\n",
    "sr.SetWellKnownGeogCS('NAD83')\n",
    "sr.SetACEA(29.5, 45.5, 23, -96, 0, 0)\n",
    "#sr.Fixup()\n",
    "sr.Validate()\n",
    "print(sr)"
   ]
  },
  {
   "cell_type": "markdown",
   "id": "d4a9457c",
   "metadata": {},
   "source": [
    "### Assigning a SRS to data"
   ]
  },
  {
   "cell_type": "code",
   "execution_count": 27,
   "id": "83149598",
   "metadata": {},
   "outputs": [],
   "source": [
    "# Make sure that the output folder exists in your data directory before\n",
    "# trying this example.\n",
    "out_fn = os.path.join(data_dir, 'output', 'testdata.shp')\n",
    "\n",
    "# Create an empty shapefile that uses a UTM SRS. If you run this it will\n",
    "# create the shapefile with a .prj file containing the SRS info.\n",
    "sr = osr.SpatialReference()\n",
    "sr.ImportFromEPSG(26912)\n",
    "ds = ogr.GetDriverByName('ESRI Shapefile').CreateDataSource(out_fn)\n",
    "lyr = ds.CreateLayer('counties', sr, ogr.wkbPolygon)"
   ]
  },
  {
   "cell_type": "markdown",
   "id": "e6fb0738",
   "metadata": {},
   "source": [
    "### Projecting geometries"
   ]
  },
  {
   "cell_type": "code",
   "execution_count": 28,
   "id": "61b63547",
   "metadata": {},
   "outputs": [],
   "source": [
    "# Get the world landmasses and plot them.\n",
    "world = gp.get_shp_geom(os.path.join(data_dir, 'global', 'ne_110m_land_1p.shp'))"
   ]
  },
  {
   "cell_type": "code",
   "execution_count": 29,
   "id": "e5be19cb",
   "metadata": {},
   "outputs": [],
   "source": [
    "# Create a point for the Eiffel Tower.\n",
    "tower = ogr.Geometry(wkt='POINT (2.294694 48.858093)')\n",
    "tower.AssignSpatialReference(osr.SpatialReference(osr.SRS_WKT_WGS84_LAT_LONG))"
   ]
  },
  {
   "cell_type": "code",
   "execution_count": 30,
   "id": "623d7583",
   "metadata": {},
   "outputs": [
    {
     "data": {
      "text/plain": [
       "6"
      ]
     },
     "execution_count": 30,
     "metadata": {},
     "output_type": "execute_result"
    }
   ],
   "source": [
    "# Try to reproject the world polygon to Web Mercator. This should spit out\n",
    "# an error.\n",
    "web_mercator_sr = osr.SpatialReference()\n",
    "web_mercator_sr.ImportFromEPSG(3857)\n",
    "world.TransformTo(web_mercator_sr)"
   ]
  },
  {
   "cell_type": "code",
   "execution_count": 31,
   "id": "b7462759",
   "metadata": {},
   "outputs": [
    {
     "name": "stdout",
     "output_type": "stream",
     "text": [
      "POINT (5438858.0338904 255512.48373294)\n"
     ]
    }
   ],
   "source": [
    "# Set a config variable and try the projection again.\n",
    "from osgeo import gdal\n",
    "gdal.SetConfigOption('OGR_ENABLE_PARTIAL_REPROJECTION', 'TRUE')\n",
    "web_mercator_sr = osr.SpatialReference()\n",
    "web_mercator_sr.ImportFromEPSG(3857)\n",
    "world.TransformTo(web_mercator_sr)\n",
    "tower.TransformTo(web_mercator_sr)\n",
    "print(tower)"
   ]
  },
  {
   "cell_type": "code",
   "execution_count": 32,
   "id": "f549f890",
   "metadata": {},
   "outputs": [
    {
     "data": {
      "text/plain": [
       "0"
      ]
     },
     "execution_count": 32,
     "metadata": {},
     "output_type": "execute_result"
    }
   ],
   "source": [
    "# Create a coordinate transformation between Web Mercator and Gall-Peters.\n",
    "peters_sr = osr.SpatialReference()\n",
    "peters_sr.ImportFromProj4(\"\"\"+proj=cea +lon_0=0 +x_0=0 +y_0=0\n",
    "                             +lat_ts=45 +ellps=WGS84 +datum=WGS84\n",
    "                             +units=m +no_defs\"\"\")\n",
    "ct = osr.CoordinateTransformation(web_mercator_sr, peters_sr)\n",
    "world.Transform(ct)"
   ]
  },
  {
   "cell_type": "code",
   "execution_count": null,
   "id": "c5ec1a59",
   "metadata": {},
   "outputs": [],
   "source": [
    "# Create an unprojected NAD27 SRS and add datum shift info.\n",
    "sr = osr.SpatialReference()\n",
    "sr.SetWellKnownGeogCS('NAD27')\n",
    "sr.SetTOWGS84(-8, 160, 176)\n",
    "print(sr)"
   ]
  },
  {
   "cell_type": "code",
   "execution_count": null,
   "id": "bc92b84f",
   "metadata": {},
   "outputs": [],
   "source": []
  }
 ],
 "metadata": {
  "kernelspec": {
   "display_name": "Python 3 (ipykernel)",
   "language": "python",
   "name": "python3"
  },
  "language_info": {
   "codemirror_mode": {
    "name": "ipython",
    "version": 3
   },
   "file_extension": ".py",
   "mimetype": "text/x-python",
   "name": "python",
   "nbconvert_exporter": "python",
   "pygments_lexer": "ipython3",
   "version": "3.9.7"
  }
 },
 "nbformat": 4,
 "nbformat_minor": 5
}
