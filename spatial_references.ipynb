{
 "cells": [
  {
   "cell_type": "code",
   "execution_count": null,
   "id": "7810aa3f",
   "metadata": {},
   "outputs": [],
   "source": [
    "import os\n",
    "from osgeo import ogr\n",
    "import osgeopy as gp"
   ]
  },
  {
   "cell_type": "code",
   "execution_count": null,
   "id": "a7ae9d5c",
   "metadata": {},
   "outputs": [],
   "source": [
    "data_dir = r'osgeopy-data'"
   ]
  },
  {
   "cell_type": "markdown",
   "id": "288eb1a5",
   "metadata": {},
   "source": [
    "## Using spatial references with OSR"
   ]
  },
  {
   "cell_type": "code",
   "execution_count": null,
   "id": "f9b7ee34",
   "metadata": {},
   "outputs": [],
   "source": [
    "# import osr so you can work with spatial references.\n",
    "from osgeo import osr"
   ]
  },
  {
   "cell_type": "markdown",
   "id": "75873830",
   "metadata": {},
   "source": [
    "### Spatial reference objects"
   ]
  },
  {
   "cell_type": "code",
   "execution_count": null,
   "id": "47aded61",
   "metadata": {},
   "outputs": [],
   "source": [
    "# Look at a geographic SRS.\n",
    "ds = ogr.Open(os.path.join(data_dir, 'us', 'states_48.shp'))\n",
    "srs = ds.GetLayer().GetSpatialRef()"
   ]
  },
  {
   "cell_type": "code",
   "execution_count": null,
   "id": "38f26515",
   "metadata": {
    "scrolled": true
   },
   "outputs": [],
   "source": [
    "# Well Known Text (WKT)\n",
    "print(srs)"
   ]
  },
  {
   "cell_type": "code",
   "execution_count": null,
   "id": "9a94bc0a",
   "metadata": {},
   "outputs": [],
   "source": [
    "# PROJ.4\n",
    "print(srs.ExportToProj4())"
   ]
  },
  {
   "cell_type": "code",
   "execution_count": null,
   "id": "4b7e1160",
   "metadata": {},
   "outputs": [],
   "source": [
    "# XML\n",
    "print(srs.ExportToXML())"
   ]
  },
  {
   "cell_type": "code",
   "execution_count": null,
   "id": "4bdc7116",
   "metadata": {},
   "outputs": [],
   "source": [
    "# Look at a UTM SRS.\n",
    "utm_sr = osr.SpatialReference()\n",
    "utm_sr.ImportFromEPSG(26912)\n",
    "print(utm_sr) # WKT\n",
    "print(utm_sr.ExportToProj4()) # PROJ.4\n",
    "print(utm_sr.ExportToXML()) # XML"
   ]
  },
  {
   "cell_type": "code",
   "execution_count": null,
   "id": "0683581f",
   "metadata": {},
   "outputs": [],
   "source": [
    "# Get the projection name.\n",
    "print(utm_sr.GetAttrValue('PROJCS'))"
   ]
  },
  {
   "cell_type": "code",
   "execution_count": null,
   "id": "7aa384e9",
   "metadata": {},
   "outputs": [],
   "source": [
    "# Get the authority.\n",
    "print(utm_sr.GetAttrValue('AUTHORITY'))\n",
    "print(utm_sr.GetAttrValue('AUTHORITY', 1))"
   ]
  },
  {
   "cell_type": "code",
   "execution_count": null,
   "id": "2e4bf15d",
   "metadata": {},
   "outputs": [],
   "source": [
    "# Get the datum code.\n",
    "print(utm_sr.GetAuthorityCode('DATUM'))"
   ]
  },
  {
   "cell_type": "code",
   "execution_count": null,
   "id": "8f3c3ac1",
   "metadata": {},
   "outputs": [],
   "source": [
    "# Get the false easting.\n",
    "print(utm_sr.GetProjParm(osr.SRS_PP_FALSE_EASTING))"
   ]
  },
  {
   "cell_type": "markdown",
   "id": "c90db0b5",
   "metadata": {},
   "source": [
    "### Creating spatial reference objects"
   ]
  },
  {
   "cell_type": "code",
   "execution_count": null,
   "id": "d0228e60",
   "metadata": {},
   "outputs": [],
   "source": [
    "# Create a UTM SRS from an EPSG code.\n",
    "sr = osr.SpatialReference()\n",
    "sr.ImportFromEPSG(26912)\n",
    "print(sr.GetAttrValue('PROJCS'))"
   ]
  },
  {
   "cell_type": "code",
   "execution_count": null,
   "id": "e35b00c6",
   "metadata": {},
   "outputs": [],
   "source": [
    "# Create a UTM SRS from a PROJ.4 string.\n",
    "sr = osr.SpatialReference()\n",
    "sr.ImportFromProj4('''+proj=utm +zone=12 +ellps=GRS80\n",
    "                      +towgs84=0,0,0,0,0,0,0 +units=m +no_defs ''')\n",
    "print(sr.GetAttrValue('PROJCS'))"
   ]
  },
  {
   "cell_type": "code",
   "execution_count": null,
   "id": "a667f91d",
   "metadata": {},
   "outputs": [],
   "source": [
    "# Create a unprojected SRS from a WKT string.\n",
    "wkt = '''GEOGCS[\"GCS_North_American_1983\",\n",
    "           DATUM[\"North_American_Datum_1983\",\n",
    "             SPHEROID[\"GRS_1980\",6378137.0,298.257222101]],\n",
    "           PRIMEM[\"Greenwich\",0.0],\n",
    "           UNIT[\"Degree\",0.0174532925199433]]'''\n",
    "sr = osr.SpatialReference(wkt)\n",
    "print(sr)"
   ]
  },
  {
   "cell_type": "code",
   "execution_count": null,
   "id": "1333b639",
   "metadata": {},
   "outputs": [],
   "source": [
    "# Create an Albers SRS using parameters.\n",
    "sr = osr.SpatialReference()\n",
    "sr.SetProjCS('USGS Albers')\n",
    "sr.SetWellKnownGeogCS('NAD83')\n",
    "sr.SetACEA(29.5, 45.5, 23, -96, 0, 0)\n",
    "#sr.Fixup()\n",
    "sr.Validate()\n",
    "print(sr)"
   ]
  },
  {
   "cell_type": "markdown",
   "id": "d4a9457c",
   "metadata": {},
   "source": [
    "### Assigning a SRS to data"
   ]
  },
  {
   "cell_type": "code",
   "execution_count": null,
   "id": "83149598",
   "metadata": {},
   "outputs": [],
   "source": [
    "# Make sure that the output folder exists in your data directory before\n",
    "# trying this example.\n",
    "out_fn = os.path.join(data_dir, 'output', 'testdata.shp')\n",
    "\n",
    "# Create an empty shapefile that uses a UTM SRS. If you run this it will\n",
    "# create the shapefile with a .prj file containing the SRS info.\n",
    "sr = osr.SpatialReference()\n",
    "sr.ImportFromEPSG(26912)\n",
    "ds = ogr.GetDriverByName('ESRI Shapefile').CreateDataSource(out_fn)\n",
    "lyr = ds.CreateLayer('counties', sr, ogr.wkbPolygon)"
   ]
  },
  {
   "cell_type": "markdown",
   "id": "e6fb0738",
   "metadata": {},
   "source": [
    "### Projecting geometries"
   ]
  },
  {
   "cell_type": "code",
   "execution_count": null,
   "id": "61b63547",
   "metadata": {},
   "outputs": [],
   "source": [
    "# Get the world landmasses and plot them.\n",
    "world = gp.get_shp_geom(os.path.join(data_dir, 'global', 'ne_110m_land_1p.shp'))"
   ]
  },
  {
   "cell_type": "code",
   "execution_count": null,
   "id": "e5be19cb",
   "metadata": {},
   "outputs": [],
   "source": [
    "# Create a point for the Eiffel Tower.\n",
    "tower = ogr.Geometry(wkt='POINT (2.294694 48.858093)')\n",
    "tower.AssignSpatialReference(osr.SpatialReference(osr.SRS_WKT_WGS84_LAT_LONG))"
   ]
  },
  {
   "cell_type": "code",
   "execution_count": null,
   "id": "623d7583",
   "metadata": {},
   "outputs": [],
   "source": [
    "# Try to reproject the world polygon to Web Mercator. This should spit out\n",
    "# an error.\n",
    "web_mercator_sr = osr.SpatialReference()\n",
    "web_mercator_sr.ImportFromEPSG(3857)\n",
    "world.TransformTo(web_mercator_sr)"
   ]
  },
  {
   "cell_type": "code",
   "execution_count": null,
   "id": "b7462759",
   "metadata": {},
   "outputs": [],
   "source": [
    "# Set a config variable and try the projection again.\n",
    "from osgeo import gdal\n",
    "gdal.SetConfigOption('OGR_ENABLE_PARTIAL_REPROJECTION', 'TRUE')\n",
    "web_mercator_sr = osr.SpatialReference()\n",
    "web_mercator_sr.ImportFromEPSG(3857)\n",
    "world.TransformTo(web_mercator_sr)\n",
    "tower.TransformTo(web_mercator_sr)\n",
    "print(tower)"
   ]
  },
  {
   "cell_type": "code",
   "execution_count": null,
   "id": "f549f890",
   "metadata": {},
   "outputs": [],
   "source": [
    "# Create a coordinate transformation between Web Mercator and Gall-Peters.\n",
    "peters_sr = osr.SpatialReference()\n",
    "peters_sr.ImportFromProj4(\"\"\"+proj=cea +lon_0=0 +x_0=0 +y_0=0\n",
    "                             +lat_ts=45 +ellps=WGS84 +datum=WGS84\n",
    "                             +units=m +no_defs\"\"\")\n",
    "ct = osr.CoordinateTransformation(web_mercator_sr, peters_sr)\n",
    "world.Transform(ct)"
   ]
  },
  {
   "cell_type": "code",
   "execution_count": null,
   "id": "c5ec1a59",
   "metadata": {},
   "outputs": [],
   "source": [
    "# Create an unprojected NAD27 SRS and add datum shift info.\n",
    "sr = osr.SpatialReference()\n",
    "sr.SetWellKnownGeogCS('NAD27')\n",
    "sr.SetTOWGS84(-8, 160, 176)\n",
    "print(sr)"
   ]
  },
  {
   "cell_type": "code",
   "execution_count": null,
   "id": "bc92b84f",
   "metadata": {},
   "outputs": [],
   "source": []
  }
 ],
 "metadata": {
  "kernelspec": {
   "display_name": "Python 3 (ipykernel)",
   "language": "python",
   "name": "python3"
  },
  "language_info": {
   "codemirror_mode": {
    "name": "ipython",
    "version": 3
   },
   "file_extension": ".py",
   "mimetype": "text/x-python",
   "name": "python",
   "nbconvert_exporter": "python",
   "pygments_lexer": "ipython3",
   "version": "3.9.7"
  }
 },
 "nbformat": 4,
 "nbformat_minor": 5
}
