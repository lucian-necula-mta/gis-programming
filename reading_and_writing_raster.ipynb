{
 "cells": [
  {
   "cell_type": "code",
   "execution_count": 1,
   "id": "2be140b7",
   "metadata": {},
   "outputs": [],
   "source": [
    "import os\n",
    "import numpy as np\n",
    "from osgeo import gdal"
   ]
  },
  {
   "cell_type": "code",
   "execution_count": 2,
   "id": "f7fdc28e",
   "metadata": {},
   "outputs": [],
   "source": [
    "data_dir = r'osgeopy-data'"
   ]
  },
  {
   "cell_type": "markdown",
   "id": "a82e2911",
   "metadata": {},
   "source": [
    "### Reading partial datasets"
   ]
  },
  {
   "cell_type": "code",
   "execution_count": null,
   "id": "f2ae6ca4",
   "metadata": {},
   "outputs": [],
   "source": [
    "# Open a Landsat band.\n",
    "os.chdir(os.path.join(data_dir, 'landsat', 'washington'))\n",
    "ds = gdal.Open('p047r027_7t20000730_z10_nn10.tif')\n",
    "band = ds.GetRasterBand(1)"
   ]
  },
  {
   "cell_type": "code",
   "execution_count": null,
   "id": "17011c2b",
   "metadata": {},
   "outputs": [],
   "source": [
    "# Read in 3 rows and 6 columns starting at row 6000 and column 1400.\n",
    "data = band.ReadAsArray(1400, 6000, 6, 3)\n",
    "print(data)"
   ]
  },
  {
   "cell_type": "code",
   "execution_count": null,
   "id": "97afbb04",
   "metadata": {},
   "outputs": [],
   "source": [
    "# Convert the data to floating point using numpy.\n",
    "data = band.ReadAsArray(1400, 6000, 6, 3).astype(float)\n",
    "print(data)"
   ]
  },
  {
   "cell_type": "code",
   "execution_count": null,
   "id": "cddfc6f9",
   "metadata": {},
   "outputs": [],
   "source": [
    "# Or convert them to float by reading them into a floating point array.\n",
    "data = np.empty((3, 6), dtype=float)\n",
    "band.ReadAsArray(1400, 6000, 6, 3, buf_obj=data)\n",
    "print(data)"
   ]
  },
  {
   "cell_type": "code",
   "execution_count": null,
   "id": "c61790a7",
   "metadata": {},
   "outputs": [],
   "source": [
    "# Write these few pixels to the middle of a tiny dummy raster\n",
    "test_ds = gdal.GetDriverByName('GTiff').Create('test.tif', 10, 10)\n",
    "band2 = test_ds.GetRasterBand(1)\n",
    "band2.WriteArray(data, 4, 6)\n",
    "del test_ds"
   ]
  },
  {
   "cell_type": "markdown",
   "id": "0d6a8473",
   "metadata": {},
   "source": [
    "#### Access window out of range"
   ]
  },
  {
   "cell_type": "code",
   "execution_count": null,
   "id": "629bab84",
   "metadata": {},
   "outputs": [],
   "source": [
    "# Try reading 5 rows and columns from the test image you just made, but\n",
    "# start at row 8 and column 2. This will fail because it's trying to read\n",
    "# rows 8 through 13, but there are only 10 rows.\n",
    "ds = gdal.Open('test.tif')\n",
    "band = ds.GetRasterBand(1)\n",
    "data = band.ReadAsArray(8, 2, 5, 5)"
   ]
  },
  {
   "cell_type": "code",
   "execution_count": null,
   "id": "e7a906ba",
   "metadata": {},
   "outputs": [],
   "source": [
    "# What happens if you try to write more data than there is room for? First\n",
    "# create an array of fake data.\n",
    "data = np.reshape(np.arange(25), (5,5))\n",
    "print(data)"
   ]
  },
  {
   "cell_type": "code",
   "execution_count": null,
   "id": "b035a1cf",
   "metadata": {},
   "outputs": [],
   "source": [
    "# Now try to write it into the same area we just failed to read data from.\n",
    "# That fails, too.\n",
    "band.WriteArray(data, 8, 2)"
   ]
  },
  {
   "cell_type": "markdown",
   "id": "b9439ac9",
   "metadata": {},
   "source": [
    "### Using real-world coordinates"
   ]
  },
  {
   "cell_type": "code",
   "execution_count": null,
   "id": "56389f09",
   "metadata": {},
   "outputs": [],
   "source": [
    "# Get the geotransform from one of the Landsat bands.\n",
    "os.chdir(os.path.join(data_dir, 'landsat', 'washington'))\n",
    "ds = gdal.Open('p047r027_7t20000730_z10_nn10.tif')\n",
    "band = ds.GetRasterBand(1)\n",
    "gt = ds.GetGeoTransform()\n",
    "print(gt)"
   ]
  },
  {
   "cell_type": "code",
   "execution_count": null,
   "id": "845e848e",
   "metadata": {},
   "outputs": [],
   "source": [
    "# Now get the inverse geotransform. The original can be used to convert\n",
    "# offsets to real-world coordinates, and the inverse can be used to convert\n",
    "# real-world coordinates to offsets.\n",
    "\n",
    "inv_gt = gdal.InvGeoTransform(gt)\n",
    "print(inv_gt)"
   ]
  },
  {
   "cell_type": "code",
   "execution_count": null,
   "id": "01ef3e1e",
   "metadata": {},
   "outputs": [],
   "source": [
    "# Use the inverse geotransform to get some pixel offsets from real-world\n",
    "# UTM coordinates (since that's what the Landsat image uses). The offsets\n",
    "# are returned as floating point.\n",
    "offsets = gdal.ApplyGeoTransform(inv_gt, 465200, 5296000)\n",
    "print(offsets)"
   ]
  },
  {
   "cell_type": "code",
   "execution_count": null,
   "id": "b30c743e",
   "metadata": {},
   "outputs": [],
   "source": [
    "# Convert the offsets to integers.\n",
    "xoff, yoff = map(int, offsets)\n",
    "print(xoff, yoff)"
   ]
  },
  {
   "cell_type": "code",
   "execution_count": null,
   "id": "4a3082dd",
   "metadata": {},
   "outputs": [],
   "source": [
    "# And use them to read a pixel value.\n",
    "value = band.ReadAsArray(xoff, yoff, 1, 1)[0,0]\n",
    "print(value)"
   ]
  },
  {
   "cell_type": "code",
   "execution_count": null,
   "id": "a8cb554b",
   "metadata": {},
   "outputs": [],
   "source": [
    "# Reading in one pixel at a time is really inefficient if you need to read\n",
    "# a lot of pixels, though, so here's how you could do it by reading in all\n",
    "# of the pixel values first and then pulling out the one you need.\n",
    "data = band.ReadAsArray()\n",
    "x, y = map(int, gdal.ApplyGeoTransform(inv_gt, 465200, 5296000))\n",
    "value = data[yoff, xoff]\n",
    "print(value)"
   ]
  },
  {
   "cell_type": "markdown",
   "id": "7d24ac6f",
   "metadata": {},
   "source": [
    "### Resampling data"
   ]
  },
  {
   "cell_type": "code",
   "execution_count": null,
   "id": "575195f5",
   "metadata": {},
   "outputs": [],
   "source": [
    "# Get the first band from the raster created with listing 8.1.\n",
    "os.chdir(os.path.join(data_dir, 'landsat', 'washington'))\n",
    "ds = gdal.Open('nat_color.tif')\n",
    "band = ds.GetRasterBand(1)"
   ]
  },
  {
   "cell_type": "code",
   "execution_count": null,
   "id": "9d6c8b0d",
   "metadata": {},
   "outputs": [],
   "source": [
    "# Read in 2 rows and 3 columns.\n",
    "original_data = band.ReadAsArray(1400, 6000, 3, 2)\n",
    "print(original_data)"
   ]
  },
  {
   "cell_type": "code",
   "execution_count": null,
   "id": "731d9823",
   "metadata": {},
   "outputs": [],
   "source": [
    "# Now resample those same 2 rows and 3 columns to a smaller pixel size by\n",
    "# doubling the number of rows and columns to read (now 4 rows and 6 columns).\n",
    "resampled_data = band.ReadAsArray(1400, 6000, 3, 2, 6, 4)\n",
    "print(resampled_data)"
   ]
  },
  {
   "cell_type": "code",
   "execution_count": null,
   "id": "8d1bf1e1",
   "metadata": {},
   "outputs": [],
   "source": [
    "# Read in 4 rows and 6 columns.\n",
    "original_data2 = band.ReadAsArray(1400, 6000, 6, 4)\n",
    "print(original_data2)"
   ]
  },
  {
   "cell_type": "code",
   "execution_count": null,
   "id": "e300201b",
   "metadata": {},
   "outputs": [],
   "source": [
    "# Now resample those same 4 rows and 6 columns to a larger pixel size by\n",
    "# halving the number of rows and columns to read (now 2 rows and 3 columns).\n",
    "resampled_data2 = np.empty((2, 3), np.int32)\n",
    "band.ReadAsArray(1400, 6000, 6, 4, buf_obj=resampled_data2)\n",
    "print(resampled_data2)"
   ]
  },
  {
   "cell_type": "markdown",
   "id": "7c5852f6",
   "metadata": {},
   "source": [
    "### Byte sequences"
   ]
  },
  {
   "cell_type": "code",
   "execution_count": null,
   "id": "d7657708",
   "metadata": {},
   "outputs": [],
   "source": [
    "# Read a few pixels as a byte string from the raster created with listing 8.1.\n",
    "os.chdir(os.path.join(data_dir, 'landsat', 'washington'))\n",
    "ds = gdal.Open('nat_color.tif')\n",
    "data = ds.ReadRaster(1400, 6000, 2, 2, band_list=[1])\n",
    "print(data)"
   ]
  },
  {
   "cell_type": "code",
   "execution_count": null,
   "id": "8bfc5540",
   "metadata": {},
   "outputs": [],
   "source": [
    "# Pull the first value out. It will be converted from a byte string to a number.\n",
    "print(data[0])"
   ]
  },
  {
   "cell_type": "code",
   "execution_count": null,
   "id": "efd69a3f",
   "metadata": {},
   "outputs": [],
   "source": [
    "# Try to change the value of that first pixel. This will fail because you\n",
    "# can't change byte strings.\n",
    "data[0] = 50"
   ]
  },
  {
   "cell_type": "code",
   "execution_count": null,
   "id": "f96a1eaf",
   "metadata": {},
   "outputs": [],
   "source": [
    "# Convert the byte string to a byte array and then change the first value.\n",
    "bytearray_data = bytearray(data)\n",
    "bytearray_data[0] = 50\n",
    "print(bytearray_data[0])"
   ]
  },
  {
   "cell_type": "code",
   "execution_count": null,
   "id": "3df8623e",
   "metadata": {},
   "outputs": [],
   "source": [
    "# Convert the byte string to tuple of pixel values.\n",
    "import struct\n",
    "tuple_data = struct.unpack('B' * 4, data)\n",
    "print(tuple_data)"
   ]
  },
  {
   "cell_type": "code",
   "execution_count": null,
   "id": "d3b097e3",
   "metadata": {},
   "outputs": [],
   "source": [
    "# Convert the tuple to a numpy array.\n",
    "numpy_data1 = np.array(tuple_data)\n",
    "print(numpy_data1)"
   ]
  },
  {
   "cell_type": "code",
   "execution_count": null,
   "id": "ce4fb0ad",
   "metadata": {},
   "outputs": [],
   "source": [
    "# Conver the byte string to a numpy array.\n",
    "numpy_data2 = np.fromstring(data, np.int8)\n",
    "print(numpy_data2)"
   ]
  },
  {
   "cell_type": "code",
   "execution_count": null,
   "id": "72774283",
   "metadata": {},
   "outputs": [],
   "source": [
    "# Reshape one of the numpy arrays so it has 2 rows and 2 columns, just like\n",
    "# the original data we read in.\n",
    "reshaped_data = np.reshape(numpy_data2, (2,2))\n",
    "print(reshaped_data)"
   ]
  },
  {
   "cell_type": "code",
   "execution_count": null,
   "id": "e1ae0090",
   "metadata": {},
   "outputs": [],
   "source": [
    "# Write our little byte string to the middle of a tiny dummy raster\n",
    "test_ds = gdal.GetDriverByName('GTiff').Create('test2.tif', 10, 10)\n",
    "test_ds.WriteRaster(4, 6, 2, 2, data, band_list=[1])\n",
    "del test_ds"
   ]
  },
  {
   "cell_type": "markdown",
   "id": "a7a7e089",
   "metadata": {},
   "source": [
    "### Subdatasets"
   ]
  },
  {
   "cell_type": "code",
   "execution_count": 3,
   "id": "67ae18af",
   "metadata": {},
   "outputs": [
    {
     "name": "stdout",
     "output_type": "stream",
     "text": [
      "Number of subdatasets: 12\n",
      "Name: HDF4_EOS:EOS_GRID:\"MYD13Q1.A2014313.h20v11.005.2014330092746.hdf\":MODIS_Grid_16DAY_250m_500m_VI:\"250m 16 days NDVI\"\n",
      "Description:[4800x4800] 250m 16 days NDVI MODIS_Grid_16DAY_250m_500m_VI (16-bit integer)\n",
      "\n",
      "Name: HDF4_EOS:EOS_GRID:\"MYD13Q1.A2014313.h20v11.005.2014330092746.hdf\":MODIS_Grid_16DAY_250m_500m_VI:\"250m 16 days EVI\"\n",
      "Description:[4800x4800] 250m 16 days EVI MODIS_Grid_16DAY_250m_500m_VI (16-bit integer)\n",
      "\n",
      "Name: HDF4_EOS:EOS_GRID:\"MYD13Q1.A2014313.h20v11.005.2014330092746.hdf\":MODIS_Grid_16DAY_250m_500m_VI:\"250m 16 days VI Quality\"\n",
      "Description:[4800x4800] 250m 16 days VI Quality MODIS_Grid_16DAY_250m_500m_VI (16-bit unsigned integer)\n",
      "\n",
      "Name: HDF4_EOS:EOS_GRID:\"MYD13Q1.A2014313.h20v11.005.2014330092746.hdf\":MODIS_Grid_16DAY_250m_500m_VI:\"250m 16 days red reflectance\"\n",
      "Description:[4800x4800] 250m 16 days red reflectance MODIS_Grid_16DAY_250m_500m_VI (16-bit integer)\n",
      "\n",
      "Name: HDF4_EOS:EOS_GRID:\"MYD13Q1.A2014313.h20v11.005.2014330092746.hdf\":MODIS_Grid_16DAY_250m_500m_VI:\"250m 16 days NIR reflectance\"\n",
      "Description:[4800x4800] 250m 16 days NIR reflectance MODIS_Grid_16DAY_250m_500m_VI (16-bit integer)\n",
      "\n",
      "Name: HDF4_EOS:EOS_GRID:\"MYD13Q1.A2014313.h20v11.005.2014330092746.hdf\":MODIS_Grid_16DAY_250m_500m_VI:\"250m 16 days blue reflectance\"\n",
      "Description:[4800x4800] 250m 16 days blue reflectance MODIS_Grid_16DAY_250m_500m_VI (16-bit integer)\n",
      "\n",
      "Name: HDF4_EOS:EOS_GRID:\"MYD13Q1.A2014313.h20v11.005.2014330092746.hdf\":MODIS_Grid_16DAY_250m_500m_VI:\"250m 16 days MIR reflectance\"\n",
      "Description:[4800x4800] 250m 16 days MIR reflectance MODIS_Grid_16DAY_250m_500m_VI (16-bit integer)\n",
      "\n",
      "Name: HDF4_EOS:EOS_GRID:\"MYD13Q1.A2014313.h20v11.005.2014330092746.hdf\":MODIS_Grid_16DAY_250m_500m_VI:\"250m 16 days view zenith angle\"\n",
      "Description:[4800x4800] 250m 16 days view zenith angle MODIS_Grid_16DAY_250m_500m_VI (16-bit integer)\n",
      "\n",
      "Name: HDF4_EOS:EOS_GRID:\"MYD13Q1.A2014313.h20v11.005.2014330092746.hdf\":MODIS_Grid_16DAY_250m_500m_VI:\"250m 16 days sun zenith angle\"\n",
      "Description:[4800x4800] 250m 16 days sun zenith angle MODIS_Grid_16DAY_250m_500m_VI (16-bit integer)\n",
      "\n",
      "Name: HDF4_EOS:EOS_GRID:\"MYD13Q1.A2014313.h20v11.005.2014330092746.hdf\":MODIS_Grid_16DAY_250m_500m_VI:\"250m 16 days relative azimuth angle\"\n",
      "Description:[4800x4800] 250m 16 days relative azimuth angle MODIS_Grid_16DAY_250m_500m_VI (16-bit integer)\n",
      "\n",
      "Name: HDF4_EOS:EOS_GRID:\"MYD13Q1.A2014313.h20v11.005.2014330092746.hdf\":MODIS_Grid_16DAY_250m_500m_VI:\"250m 16 days composite day of the year\"\n",
      "Description:[4800x4800] 250m 16 days composite day of the year MODIS_Grid_16DAY_250m_500m_VI (16-bit integer)\n",
      "\n",
      "Name: HDF4_EOS:EOS_GRID:\"MYD13Q1.A2014313.h20v11.005.2014330092746.hdf\":MODIS_Grid_16DAY_250m_500m_VI:\"250m 16 days pixel reliability\"\n",
      "Description:[4800x4800] 250m 16 days pixel reliability MODIS_Grid_16DAY_250m_500m_VI (8-bit integer)\n",
      "\n"
     ]
    }
   ],
   "source": [
    "# Get the subdatasets from a MODIS file.\n",
    "os.chdir(os.path.join(data_dir, 'modis'))\n",
    "ds = gdal.Open('MYD13Q1.A2014313.h20v11.005.2014330092746.hdf')\n",
    "subdatasets = ds.GetSubDatasets()\n",
    "print('Number of subdatasets: {}'.format(len(subdatasets)))\n",
    "for sd in subdatasets:\n",
    "    print('Name: {0}\\nDescription:{1}\\n'.format(*sd))"
   ]
  },
  {
   "cell_type": "code",
   "execution_count": 4,
   "id": "7eec3804",
   "metadata": {},
   "outputs": [],
   "source": [
    "# Open the the first subdataset in the Modis file.\n",
    "ndvi_ds = gdal.Open(subdatasets[0][0])"
   ]
  },
  {
   "cell_type": "code",
   "execution_count": 5,
   "id": "0aa42dea",
   "metadata": {},
   "outputs": [
    {
     "name": "stdout",
     "output_type": "stream",
     "text": [
      "Dataset dimensions: 4800 4800\n"
     ]
    }
   ],
   "source": [
    "# Make sure that it worked by by printing out the dimensions. You can use\n",
    "# ndvi_ds just like any other dataset.\n",
    "print('Dataset dimensions: {} {}'.format(ndvi_ds.RasterXSize, ndvi_ds.RasterYSize))"
   ]
  },
  {
   "cell_type": "code",
   "execution_count": 6,
   "id": "9a4bf8f5",
   "metadata": {},
   "outputs": [
    {
     "name": "stdout",
     "output_type": "stream",
     "text": [
      "Band dimensions: 4800 4800\n"
     ]
    }
   ],
   "source": [
    "# For example, you still need to get the band before you can read data.\n",
    "ndvi_band = ndvi_ds.GetRasterBand(1)\n",
    "print('Band dimensions: {} {}'.format(ndvi_band.XSize, ndvi_band.YSize))"
   ]
  },
  {
   "cell_type": "markdown",
   "id": "328dc3b0",
   "metadata": {},
   "source": [
    "### WMS"
   ]
  },
  {
   "cell_type": "code",
   "execution_count": 14,
   "id": "a0326b03",
   "metadata": {},
   "outputs": [],
   "source": [
    "fn = os.path.join(data_dir, 'wms_service_description.xml')\n",
    "ds = gdal.Open(fn)\n",
    "if ds != None:\n",
    "    gdal.GetDriverByName('PNG').CreateCopy(r'liberty.png', ds)"
   ]
  },
  {
   "cell_type": "code",
   "execution_count": null,
   "id": "367a35a2",
   "metadata": {},
   "outputs": [],
   "source": []
  }
 ],
 "metadata": {
  "kernelspec": {
   "display_name": "Python 3 (ipykernel)",
   "language": "python",
   "name": "python3"
  },
  "language_info": {
   "codemirror_mode": {
    "name": "ipython",
    "version": 3
   },
   "file_extension": ".py",
   "mimetype": "text/x-python",
   "name": "python",
   "nbconvert_exporter": "python",
   "pygments_lexer": "ipython3",
   "version": "3.9.7"
  }
 },
 "nbformat": 4,
 "nbformat_minor": 5
}
