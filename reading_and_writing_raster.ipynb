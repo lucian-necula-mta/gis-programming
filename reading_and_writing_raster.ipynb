{
 "cells": [
  {
   "cell_type": "code",
   "execution_count": 32,
   "id": "2be140b7",
   "metadata": {},
   "outputs": [],
   "source": [
    "import os\n",
    "import numpy as np\n",
    "from osgeo import gdal"
   ]
  },
  {
   "cell_type": "code",
   "execution_count": 33,
   "id": "f7fdc28e",
   "metadata": {},
   "outputs": [],
   "source": [
    "data_dir = r'C:\\Personale\\atm\\reps\\gis-programming\\osgeopy-data'"
   ]
  },
  {
   "cell_type": "markdown",
   "id": "a82e2911",
   "metadata": {},
   "source": [
    "### Reading partial datasets"
   ]
  },
  {
   "cell_type": "code",
   "execution_count": null,
   "id": "f2ae6ca4",
   "metadata": {},
   "outputs": [],
   "source": [
    "# Open a Landsat band.\n",
    "os.chdir(os.path.join(data_dir, 'landsat', 'washington'))\n",
    "ds = gdal.Open('p047r027_7t20000730_z10_nn10.tif')\n",
    "band = ds.GetRasterBand(1)"
   ]
  },
  {
   "cell_type": "code",
   "execution_count": null,
   "id": "17011c2b",
   "metadata": {},
   "outputs": [],
   "source": [
    "# Read in 3 rows and 6 columns starting at row 6000 and column 1400.\n",
    "data = band.ReadAsArray(1400, 6000, 6, 3)\n",
    "print(data)"
   ]
  },
  {
   "cell_type": "code",
   "execution_count": null,
   "id": "97afbb04",
   "metadata": {},
   "outputs": [],
   "source": [
    "# Convert the data to floating point using numpy.\n",
    "data = band.ReadAsArray(1400, 6000, 6, 3).astype(float)\n",
    "print(data)"
   ]
  },
  {
   "cell_type": "code",
   "execution_count": null,
   "id": "cddfc6f9",
   "metadata": {},
   "outputs": [],
   "source": [
    "# Or convert them to float by reading them into a floating point array.\n",
    "data = np.empty((3, 6), dtype=float)\n",
    "band.ReadAsArray(1400, 6000, 6, 3, buf_obj=data)\n",
    "print(data)"
   ]
  },
  {
   "cell_type": "code",
   "execution_count": null,
   "id": "c61790a7",
   "metadata": {},
   "outputs": [],
   "source": [
    "# Write these few pixels to the middle of a tiny dummy raster\n",
    "test_ds = gdal.GetDriverByName('GTiff').Create('test.tif', 10, 10)\n",
    "band2 = test_ds.GetRasterBand(1)\n",
    "band2.WriteArray(data, 4, 6)\n",
    "del test_ds"
   ]
  },
  {
   "cell_type": "markdown",
   "id": "0d6a8473",
   "metadata": {},
   "source": [
    "#### Access window out of range"
   ]
  },
  {
   "cell_type": "code",
   "execution_count": null,
   "id": "629bab84",
   "metadata": {},
   "outputs": [],
   "source": [
    "# Try reading 5 rows and columns from the test image you just made, but\n",
    "# start at row 8 and column 2. This will fail because it's trying to read\n",
    "# rows 8 through 13, but there are only 10 rows.\n",
    "ds = gdal.Open('test.tif')\n",
    "band = ds.GetRasterBand(1)\n",
    "data = band.ReadAsArray(8, 2, 5, 5)"
   ]
  },
  {
   "cell_type": "code",
   "execution_count": null,
   "id": "e7a906ba",
   "metadata": {},
   "outputs": [],
   "source": [
    "# What happens if you try to write more data than there is room for? First\n",
    "# create an array of fake data.\n",
    "data = np.reshape(np.arange(25), (5,5))\n",
    "print(data)"
   ]
  },
  {
   "cell_type": "code",
   "execution_count": null,
   "id": "b035a1cf",
   "metadata": {},
   "outputs": [],
   "source": [
    "# Now try to write it into the same area we just failed to read data from.\n",
    "# That fails, too.\n",
    "band.WriteArray(data, 8, 2)"
   ]
  },
  {
   "cell_type": "markdown",
   "id": "b9439ac9",
   "metadata": {},
   "source": [
    "### Using real-world coordinates"
   ]
  },
  {
   "cell_type": "code",
   "execution_count": 34,
   "id": "56389f09",
   "metadata": {},
   "outputs": [
    {
     "name": "stdout",
     "output_type": "stream",
     "text": [
      "(343724.25, 28.5, 0.0, 5369585.25, 0.0, -28.5)\n"
     ]
    }
   ],
   "source": [
    "# Get the geotransform from one of the Landsat bands.\n",
    "os.chdir(os.path.join(data_dir, 'landsat', 'washington'))\n",
    "ds = gdal.Open('p047r027_7t20000730_z10_nn10.tif')\n",
    "band = ds.GetRasterBand(1)\n",
    "gt = ds.GetGeoTransform()\n",
    "print(gt)"
   ]
  },
  {
   "cell_type": "code",
   "execution_count": 36,
   "id": "845e848e",
   "metadata": {},
   "outputs": [
    {
     "name": "stdout",
     "output_type": "stream",
     "text": [
      "(-12060.5, 0.03508771929824561, 0.0, 188406.5, 0.0, -0.03508771929824561)\n"
     ]
    }
   ],
   "source": [
    "# Now get the inverse geotransform. The original can be used to convert\n",
    "# offsets to real-world coordinates, and the inverse can be used to convert\n",
    "# real-world coordinates to offsets.\n",
    "\n",
    "inv_gt = gdal.InvGeoTransform(gt)\n",
    "print(inv_gt)"
   ]
  },
  {
   "cell_type": "code",
   "execution_count": 37,
   "id": "01ef3e1e",
   "metadata": {},
   "outputs": [
    {
     "name": "stdout",
     "output_type": "stream",
     "text": [
      "[4262.307017543859, 2581.9385964912362]\n"
     ]
    }
   ],
   "source": [
    "# Use the inverse geotransform to get some pixel offsets from real-world\n",
    "# UTM coordinates (since that's what the Landsat image uses). The offsets\n",
    "# are returned as floating point.\n",
    "offsets = gdal.ApplyGeoTransform(inv_gt, 465200, 5296000)\n",
    "print(offsets)"
   ]
  },
  {
   "cell_type": "code",
   "execution_count": 38,
   "id": "b30c743e",
   "metadata": {},
   "outputs": [
    {
     "name": "stdout",
     "output_type": "stream",
     "text": [
      "4262 2581\n"
     ]
    }
   ],
   "source": [
    "# Convert the offsets to integers.\n",
    "xoff, yoff = map(int, offsets)\n",
    "print(xoff, yoff)"
   ]
  },
  {
   "cell_type": "code",
   "execution_count": 39,
   "id": "4a3082dd",
   "metadata": {},
   "outputs": [
    {
     "name": "stdout",
     "output_type": "stream",
     "text": [
      "62\n"
     ]
    }
   ],
   "source": [
    "# And use them to read a pixel value.\n",
    "value = band.ReadAsArray(xoff, yoff, 1, 1)[0,0]\n",
    "print(value)"
   ]
  },
  {
   "cell_type": "code",
   "execution_count": null,
   "id": "a8cb554b",
   "metadata": {},
   "outputs": [],
   "source": [
    "# Reading in one pixel at a time is really inefficient if you need to read\n",
    "# a lot of pixels, though, so here's how you could do it by reading in all\n",
    "# of the pixel values first and then pulling out the one you need.\n",
    "data = band.ReadAsArray()\n",
    "x, y = map(int, gdal.ApplyGeoTransform(inv_gt, 465200, 5296000))\n",
    "value = data[yoff, xoff]\n",
    "print(value)"
   ]
  },
  {
   "cell_type": "markdown",
   "id": "7d24ac6f",
   "metadata": {},
   "source": [
    "### Resampling data"
   ]
  },
  {
   "cell_type": "code",
   "execution_count": 40,
   "id": "575195f5",
   "metadata": {},
   "outputs": [],
   "source": [
    "# Get the first band from the raster\n",
    "os.chdir(os.path.join(data_dir, 'landsat', 'washington'))\n",
    "ds = gdal.Open('nat_color.tif')\n",
    "band = ds.GetRasterBand(1)"
   ]
  },
  {
   "cell_type": "code",
   "execution_count": 41,
   "id": "9d6c8b0d",
   "metadata": {},
   "outputs": [
    {
     "name": "stdout",
     "output_type": "stream",
     "text": [
      "[[28 29 29]\n",
      " [28 30 29]]\n"
     ]
    }
   ],
   "source": [
    "# Read in 2 rows and 3 columns.\n",
    "original_data = band.ReadAsArray(1400, 6000, 3, 2)\n",
    "print(original_data)"
   ]
  },
  {
   "cell_type": "code",
   "execution_count": 42,
   "id": "731d9823",
   "metadata": {},
   "outputs": [
    {
     "name": "stdout",
     "output_type": "stream",
     "text": [
      "[[28 28 29 29 29 29]\n",
      " [28 28 29 29 29 29]\n",
      " [28 28 30 30 29 29]\n",
      " [28 28 30 30 29 29]]\n"
     ]
    }
   ],
   "source": [
    "# Now resample those same 2 rows and 3 columns to a smaller pixel size by\n",
    "# doubling the number of rows and columns to read (now 4 rows and 6 columns).\n",
    "resampled_data = band.ReadAsArray(1400, 6000, 3, 2, 6, 4)\n",
    "print(resampled_data)"
   ]
  },
  {
   "cell_type": "code",
   "execution_count": 43,
   "id": "8d1bf1e1",
   "metadata": {},
   "outputs": [
    {
     "name": "stdout",
     "output_type": "stream",
     "text": [
      "[[28 29 29 27 25 25]\n",
      " [28 30 29 25 32 28]\n",
      " [27 27 28 30 25 29]\n",
      " [26 26 27 30 25 30]]\n"
     ]
    }
   ],
   "source": [
    "# Read in 4 rows and 6 columns.\n",
    "original_data2 = band.ReadAsArray(1400, 6000, 6, 4)\n",
    "print(original_data2)"
   ]
  },
  {
   "cell_type": "code",
   "execution_count": 44,
   "id": "e300201b",
   "metadata": {},
   "outputs": [
    {
     "name": "stdout",
     "output_type": "stream",
     "text": [
      "[[28 28 27]\n",
      " [28 28 29]]\n"
     ]
    }
   ],
   "source": [
    "# Now resample those same 4 rows and 6 columns to a larger pixel size by\n",
    "# halving the number of rows and columns to read (now 2 rows and 3 columns).\n",
    "resampled_data2 = np.empty((2, 3), np.int32)\n",
    "band.ReadAsArray(1400, 6000, 6, 4, buf_obj=resampled_data2)\n",
    "print(resampled_data2)"
   ]
  },
  {
   "cell_type": "markdown",
   "id": "7c5852f6",
   "metadata": {},
   "source": [
    "### Byte sequences"
   ]
  },
  {
   "cell_type": "code",
   "execution_count": 45,
   "id": "d7657708",
   "metadata": {},
   "outputs": [
    {
     "name": "stdout",
     "output_type": "stream",
     "text": [
      "bytearray(b'\\x1c\\x1d\\x1c\\x1e')\n"
     ]
    }
   ],
   "source": [
    "# Read a few pixels as a byte string from the raster created with listing 8.1.\n",
    "os.chdir(os.path.join(data_dir, 'landsat', 'washington'))\n",
    "ds = gdal.Open('nat_color.tif')\n",
    "data = ds.ReadRaster(1400, 6000, 2, 2, band_list=[1])\n",
    "print(data)"
   ]
  },
  {
   "cell_type": "code",
   "execution_count": 46,
   "id": "8bfc5540",
   "metadata": {},
   "outputs": [
    {
     "name": "stdout",
     "output_type": "stream",
     "text": [
      "28\n"
     ]
    }
   ],
   "source": [
    "# Pull the first value out. It will be converted from a byte string to a number.\n",
    "print(data[0])"
   ]
  },
  {
   "cell_type": "code",
   "execution_count": null,
   "id": "efd69a3f",
   "metadata": {},
   "outputs": [],
   "source": [
    "# Try to change the value of that first pixel. This will fail because you\n",
    "# can't change byte strings.\n",
    "data[0] = 50"
   ]
  },
  {
   "cell_type": "code",
   "execution_count": null,
   "id": "f96a1eaf",
   "metadata": {},
   "outputs": [],
   "source": [
    "# Convert the byte string to a byte array and then change the first value.\n",
    "bytearray_data = bytearray(data)\n",
    "bytearray_data[0] = 50\n",
    "print(bytearray_data[0])"
   ]
  },
  {
   "cell_type": "code",
   "execution_count": null,
   "id": "3df8623e",
   "metadata": {},
   "outputs": [],
   "source": [
    "# Convert the byte string to tuple of pixel values.\n",
    "import struct\n",
    "tuple_data = struct.unpack('B' * 4, data)\n",
    "print(tuple_data)"
   ]
  },
  {
   "cell_type": "code",
   "execution_count": null,
   "id": "d3b097e3",
   "metadata": {},
   "outputs": [],
   "source": [
    "# Convert the tuple to a numpy array.\n",
    "numpy_data1 = np.array(tuple_data)\n",
    "print(numpy_data1)"
   ]
  },
  {
   "cell_type": "code",
   "execution_count": null,
   "id": "ce4fb0ad",
   "metadata": {},
   "outputs": [],
   "source": [
    "# Conver the byte string to a numpy array.\n",
    "numpy_data2 = np.fromstring(data, np.int8)\n",
    "print(numpy_data2)"
   ]
  },
  {
   "cell_type": "code",
   "execution_count": null,
   "id": "72774283",
   "metadata": {},
   "outputs": [],
   "source": [
    "# Reshape one of the numpy arrays so it has 2 rows and 2 columns, just like\n",
    "# the original data we read in.\n",
    "reshaped_data = np.reshape(numpy_data2, (2,2))\n",
    "print(reshaped_data)"
   ]
  },
  {
   "cell_type": "code",
   "execution_count": null,
   "id": "e1ae0090",
   "metadata": {},
   "outputs": [],
   "source": [
    "# Write our little byte string to the middle of a tiny dummy raster\n",
    "test_ds = gdal.GetDriverByName('GTiff').Create('test2.tif', 10, 10)\n",
    "test_ds.WriteRaster(4, 6, 2, 2, data, band_list=[1])\n",
    "del test_ds"
   ]
  },
  {
   "cell_type": "markdown",
   "id": "a7a7e089",
   "metadata": {},
   "source": [
    "### Subdatasets"
   ]
  },
  {
   "cell_type": "code",
   "execution_count": null,
   "id": "67ae18af",
   "metadata": {},
   "outputs": [],
   "source": [
    "# Get the subdatasets from a MODIS file.\n",
    "os.chdir(os.path.join(data_dir, 'modis'))\n",
    "ds = gdal.Open('MYD13Q1.A2014313.h20v11.005.2014330092746.hdf')\n",
    "subdatasets = ds.GetSubDatasets()\n",
    "print('Number of subdatasets: {}'.format(len(subdatasets)))\n",
    "for sd in subdatasets:\n",
    "    print('Name: {0}\\nDescription:{1}\\n'.format(*sd))"
   ]
  },
  {
   "cell_type": "code",
   "execution_count": null,
   "id": "7eec3804",
   "metadata": {},
   "outputs": [],
   "source": [
    "# Open the the first subdataset in the Modis file.\n",
    "ndvi_ds = gdal.Open(subdatasets[0][0])"
   ]
  },
  {
   "cell_type": "code",
   "execution_count": null,
   "id": "0aa42dea",
   "metadata": {},
   "outputs": [],
   "source": [
    "# Make sure that it worked by by printing out the dimensions. You can use\n",
    "# ndvi_ds just like any other dataset.\n",
    "print('Dataset dimensions: {} {}'.format(ndvi_ds.RasterXSize, ndvi_ds.RasterYSize))"
   ]
  },
  {
   "cell_type": "code",
   "execution_count": null,
   "id": "9a4bf8f5",
   "metadata": {},
   "outputs": [],
   "source": [
    "# For example, you still need to get the band before you can read data.\n",
    "ndvi_band = ndvi_ds.GetRasterBand(1)\n",
    "print('Band dimensions: {} {}'.format(ndvi_band.XSize, ndvi_band.YSize))"
   ]
  },
  {
   "cell_type": "markdown",
   "id": "328dc3b0",
   "metadata": {},
   "source": [
    "### WMS"
   ]
  },
  {
   "cell_type": "code",
   "execution_count": null,
   "id": "a0326b03",
   "metadata": {},
   "outputs": [],
   "source": [
    "fn = os.path.join(data_dir, 'wms_service_description.xml')\n",
    "ds = gdal.Open(fn)\n",
    "if ds != None:\n",
    "    gdal.GetDriverByName('PNG').CreateCopy(r'liberty.png', ds)"
   ]
  },
  {
   "cell_type": "markdown",
   "id": "8441d511",
   "metadata": {},
   "source": [
    "### Processing a raster by block"
   ]
  },
  {
   "cell_type": "code",
   "execution_count": 47,
   "id": "59201bb1",
   "metadata": {},
   "outputs": [],
   "source": [
    "# Open the input raster and get its dimensions.\n",
    "os.chdir(os.path.join(data_dir, 'landsat', 'washington'))\n",
    "\n",
    "in_ds = gdal.Open('nat_color.tif')\n",
    "in_band = in_ds.GetRasterBand(1)\n",
    "\n",
    "xsize = in_band.XSize\n",
    "ysize = in_band.YSize"
   ]
  },
  {
   "cell_type": "code",
   "execution_count": 49,
   "id": "e64d6442",
   "metadata": {},
   "outputs": [
    {
     "data": {
      "text/plain": [
       "(8849, 1)"
      ]
     },
     "execution_count": 49,
     "metadata": {},
     "output_type": "execute_result"
    }
   ],
   "source": [
    "# Get the block size and NoData value.\n",
    "block_xsize, block_ysize = in_band.GetBlockSize()\n",
    "nodata = in_band.GetNoDataValue()\n",
    "block_xsize, block_ysize"
   ]
  },
  {
   "cell_type": "code",
   "execution_count": 50,
   "id": "9be1e35a",
   "metadata": {},
   "outputs": [],
   "source": [
    "# Create an output file with the same dimensions and data type.\n",
    "out_ds = in_ds.GetDriver().Create(\n",
    "    'dem_feet.tif', xsize, ysize, 1, in_band.DataType)\n",
    "out_ds.SetProjection(in_ds.GetProjection())\n",
    "out_ds.SetGeoTransform(in_ds.GetGeoTransform())\n",
    "out_band = out_ds.GetRasterBand(1)\n"
   ]
  },
  {
   "cell_type": "code",
   "execution_count": 53,
   "id": "f0cfc8e5",
   "metadata": {},
   "outputs": [],
   "source": [
    "# Loop through the blocks in the x direction.\n",
    "for x in range(0, xsize, block_xsize):\n",
    "\n",
    "    # Get the number of columns to read.\n",
    "    if x + block_xsize < xsize:\n",
    "        cols = block_xsize\n",
    "    else:\n",
    "        cols = xsize - x\n",
    "\n",
    "    # Loop through the blocks in the y direction.\n",
    "    for y in range(0, ysize, block_ysize):\n",
    "\n",
    "        # Get the number of rows to read.\n",
    "        if y + block_ysize < ysize:\n",
    "            rows = block_ysize\n",
    "        else:\n",
    "            rows = ysize - y\n",
    "\n",
    "        # Read in one block's worth of data, and then\n",
    "        # write the results out to the same block location in the output.\n",
    "        data = in_band.ReadAsArray(x, y, cols, rows)\n",
    "        #data = np.where(data == nodata, nodata, data)\n",
    "        out_band.WriteArray(data, x, y)\n"
   ]
  },
  {
   "cell_type": "code",
   "execution_count": 58,
   "id": "f69f48f2",
   "metadata": {},
   "outputs": [],
   "source": [
    "# Compute statistics after flushing the cache and setting the NoData value.\n",
    "out_band.FlushCache()\n",
    "#out_band.SetNoDataValue(nodata)\n",
    "out_band.ComputeStatistics(False)\n",
    "out_ds.BuildOverviews('average', [2, 4, 8, 16, 32])\n",
    "del out_ds"
   ]
  },
  {
   "cell_type": "code",
   "execution_count": null,
   "id": "51408737",
   "metadata": {},
   "outputs": [],
   "source": []
  }
 ],
 "metadata": {
  "kernelspec": {
   "display_name": "Python 3 (ipykernel)",
   "language": "python",
   "name": "python3"
  },
  "language_info": {
   "codemirror_mode": {
    "name": "ipython",
    "version": 3
   },
   "file_extension": ".py",
   "mimetype": "text/x-python",
   "name": "python",
   "nbconvert_exporter": "python",
   "pygments_lexer": "ipython3",
   "version": "3.9.7"
  }
 },
 "nbformat": 4,
 "nbformat_minor": 5
}
